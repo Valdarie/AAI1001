{
 "cells": [
  {
   "cell_type": "code",
   "execution_count": 1,
   "metadata": {},
   "outputs": [],
   "source": [
    "import numpy as np\n",
    "import pandas as pd\n",
    "from pathlib import Path\n",
    "import os.path\n",
    "import matplotlib.pyplot as plt\n",
    "import tensorflow as tf\n",
    "import cv2"
   ]
  },
  {
   "cell_type": "code",
   "execution_count": 2,
   "metadata": {},
   "outputs": [
    {
     "data": {
      "text/html": [
       "<div>\n",
       "<style scoped>\n",
       "    .dataframe tbody tr th:only-of-type {\n",
       "        vertical-align: middle;\n",
       "    }\n",
       "\n",
       "    .dataframe tbody tr th {\n",
       "        vertical-align: top;\n",
       "    }\n",
       "\n",
       "    .dataframe thead th {\n",
       "        text-align: right;\n",
       "    }\n",
       "</style>\n",
       "<table border=\"1\" class=\"dataframe\">\n",
       "  <thead>\n",
       "    <tr style=\"text-align: right;\">\n",
       "      <th></th>\n",
       "      <th>Filepath</th>\n",
       "      <th>Label</th>\n",
       "    </tr>\n",
       "  </thead>\n",
       "  <tbody>\n",
       "    <tr>\n",
       "      <th>0</th>\n",
       "      <td>data\\ECG_Image_data\\test\\F\\F0.png</td>\n",
       "      <td>F</td>\n",
       "    </tr>\n",
       "    <tr>\n",
       "      <th>1</th>\n",
       "      <td>data\\ECG_Image_data\\test\\F\\F104.png</td>\n",
       "      <td>F</td>\n",
       "    </tr>\n",
       "    <tr>\n",
       "      <th>2</th>\n",
       "      <td>data\\ECG_Image_data\\test\\F\\F113.png</td>\n",
       "      <td>F</td>\n",
       "    </tr>\n",
       "    <tr>\n",
       "      <th>3</th>\n",
       "      <td>data\\ECG_Image_data\\test\\F\\F115.png</td>\n",
       "      <td>F</td>\n",
       "    </tr>\n",
       "    <tr>\n",
       "      <th>4</th>\n",
       "      <td>data\\ECG_Image_data\\test\\F\\F118.png</td>\n",
       "      <td>F</td>\n",
       "    </tr>\n",
       "    <tr>\n",
       "      <th>...</th>\n",
       "      <td>...</td>\n",
       "      <td>...</td>\n",
       "    </tr>\n",
       "    <tr>\n",
       "      <th>24794</th>\n",
       "      <td>data\\ECG_Image_data\\test\\V\\V98.png</td>\n",
       "      <td>V</td>\n",
       "    </tr>\n",
       "    <tr>\n",
       "      <th>24795</th>\n",
       "      <td>data\\ECG_Image_data\\test\\V\\V981.png</td>\n",
       "      <td>V</td>\n",
       "    </tr>\n",
       "    <tr>\n",
       "      <th>24796</th>\n",
       "      <td>data\\ECG_Image_data\\test\\V\\V986.png</td>\n",
       "      <td>V</td>\n",
       "    </tr>\n",
       "    <tr>\n",
       "      <th>24797</th>\n",
       "      <td>data\\ECG_Image_data\\test\\V\\V987.png</td>\n",
       "      <td>V</td>\n",
       "    </tr>\n",
       "    <tr>\n",
       "      <th>24798</th>\n",
       "      <td>data\\ECG_Image_data\\test\\V\\V991.png</td>\n",
       "      <td>V</td>\n",
       "    </tr>\n",
       "  </tbody>\n",
       "</table>\n",
       "<p>24799 rows × 2 columns</p>\n",
       "</div>"
      ],
      "text/plain": [
       "                                  Filepath Label\n",
       "0        data\\ECG_Image_data\\test\\F\\F0.png     F\n",
       "1      data\\ECG_Image_data\\test\\F\\F104.png     F\n",
       "2      data\\ECG_Image_data\\test\\F\\F113.png     F\n",
       "3      data\\ECG_Image_data\\test\\F\\F115.png     F\n",
       "4      data\\ECG_Image_data\\test\\F\\F118.png     F\n",
       "...                                    ...   ...\n",
       "24794   data\\ECG_Image_data\\test\\V\\V98.png     V\n",
       "24795  data\\ECG_Image_data\\test\\V\\V981.png     V\n",
       "24796  data\\ECG_Image_data\\test\\V\\V986.png     V\n",
       "24797  data\\ECG_Image_data\\test\\V\\V987.png     V\n",
       "24798  data\\ECG_Image_data\\test\\V\\V991.png     V\n",
       "\n",
       "[24799 rows x 2 columns]"
      ]
     },
     "execution_count": 2,
     "metadata": {},
     "output_type": "execute_result"
    }
   ],
   "source": [
    "dir = Path('data/ECG_Image_data/test')\n",
    "\n",
    "filepaths = list(dir.glob(r'**/*.png'))\n",
    "labels = list(map(lambda x: os.path.split(os.path.split(x)[0])[1], filepaths))\n",
    "\n",
    "filepaths = pd.Series(filepaths, name='Filepath').astype(str)\n",
    "labels = pd.Series(labels, name='Label')\n",
    "\n",
    "dataframe_test = pd.concat([filepaths , labels] , axis=1)\n",
    "dataframe_test"
   ]
  },
  {
   "cell_type": "code",
   "execution_count": 3,
   "metadata": {},
   "outputs": [
    {
     "data": {
      "text/plain": [
       "N    18926\n",
       "M     2101\n",
       "Q     1608\n",
       "V     1447\n",
       "S      556\n",
       "F      161\n",
       "Name: Label, dtype: int64"
      ]
     },
     "execution_count": 3,
     "metadata": {},
     "output_type": "execute_result"
    }
   ],
   "source": [
    "dataframe_test['Label'].value_counts()"
   ]
  },
  {
   "cell_type": "code",
   "execution_count": 4,
   "metadata": {},
   "outputs": [
    {
     "data": {
      "text/plain": [
       "M    160\n",
       "F    160\n",
       "Q    160\n",
       "N    160\n",
       "V    160\n",
       "S    160\n",
       "Name: Label, dtype: int64"
      ]
     },
     "execution_count": 4,
     "metadata": {},
     "output_type": "execute_result"
    }
   ],
   "source": [
    "samples = []\n",
    "for category in ['N','M','Q','V','S','F']:\n",
    "    category_slice = dataframe_test.query(\"Label == @category\")\n",
    "    samples.append(category_slice.sample(160, random_state=1))\n",
    "\n",
    "dataframe_test = pd.concat(samples, axis=0).sample(frac=1.0, random_state=1).reset_index(drop=True)\n",
    "dataframe_test['Label'].value_counts()"
   ]
  },
  {
   "cell_type": "code",
   "execution_count": 5,
   "metadata": {},
   "outputs": [
    {
     "data": {
      "text/html": [
       "<div>\n",
       "<style scoped>\n",
       "    .dataframe tbody tr th:only-of-type {\n",
       "        vertical-align: middle;\n",
       "    }\n",
       "\n",
       "    .dataframe tbody tr th {\n",
       "        vertical-align: top;\n",
       "    }\n",
       "\n",
       "    .dataframe thead th {\n",
       "        text-align: right;\n",
       "    }\n",
       "</style>\n",
       "<table border=\"1\" class=\"dataframe\">\n",
       "  <thead>\n",
       "    <tr style=\"text-align: right;\">\n",
       "      <th></th>\n",
       "      <th>Filepath</th>\n",
       "      <th>Label</th>\n",
       "    </tr>\n",
       "  </thead>\n",
       "  <tbody>\n",
       "    <tr>\n",
       "      <th>0</th>\n",
       "      <td>data\\ECG_Image_data\\test\\M\\M933.png</td>\n",
       "      <td>M</td>\n",
       "    </tr>\n",
       "    <tr>\n",
       "      <th>1</th>\n",
       "      <td>data\\ECG_Image_data\\test\\F\\F377.png</td>\n",
       "      <td>F</td>\n",
       "    </tr>\n",
       "    <tr>\n",
       "      <th>2</th>\n",
       "      <td>data\\ECG_Image_data\\test\\Q\\Q6746.png</td>\n",
       "      <td>Q</td>\n",
       "    </tr>\n",
       "    <tr>\n",
       "      <th>3</th>\n",
       "      <td>data\\ECG_Image_data\\test\\Q\\Q883.png</td>\n",
       "      <td>Q</td>\n",
       "    </tr>\n",
       "    <tr>\n",
       "      <th>4</th>\n",
       "      <td>data\\ECG_Image_data\\test\\Q\\Q6569.png</td>\n",
       "      <td>Q</td>\n",
       "    </tr>\n",
       "    <tr>\n",
       "      <th>...</th>\n",
       "      <td>...</td>\n",
       "      <td>...</td>\n",
       "    </tr>\n",
       "    <tr>\n",
       "      <th>955</th>\n",
       "      <td>data\\ECG_Image_data\\test\\S\\S1979.png</td>\n",
       "      <td>S</td>\n",
       "    </tr>\n",
       "    <tr>\n",
       "      <th>956</th>\n",
       "      <td>data\\ECG_Image_data\\test\\N\\N26059.png</td>\n",
       "      <td>N</td>\n",
       "    </tr>\n",
       "    <tr>\n",
       "      <th>957</th>\n",
       "      <td>data\\ECG_Image_data\\test\\F\\F418.png</td>\n",
       "      <td>F</td>\n",
       "    </tr>\n",
       "    <tr>\n",
       "      <th>958</th>\n",
       "      <td>data\\ECG_Image_data\\test\\M\\M971.png</td>\n",
       "      <td>M</td>\n",
       "    </tr>\n",
       "    <tr>\n",
       "      <th>959</th>\n",
       "      <td>data\\ECG_Image_data\\test\\N\\N84538.png</td>\n",
       "      <td>N</td>\n",
       "    </tr>\n",
       "  </tbody>\n",
       "</table>\n",
       "<p>960 rows × 2 columns</p>\n",
       "</div>"
      ],
      "text/plain": [
       "                                  Filepath Label\n",
       "0      data\\ECG_Image_data\\test\\M\\M933.png     M\n",
       "1      data\\ECG_Image_data\\test\\F\\F377.png     F\n",
       "2     data\\ECG_Image_data\\test\\Q\\Q6746.png     Q\n",
       "3      data\\ECG_Image_data\\test\\Q\\Q883.png     Q\n",
       "4     data\\ECG_Image_data\\test\\Q\\Q6569.png     Q\n",
       "..                                     ...   ...\n",
       "955   data\\ECG_Image_data\\test\\S\\S1979.png     S\n",
       "956  data\\ECG_Image_data\\test\\N\\N26059.png     N\n",
       "957    data\\ECG_Image_data\\test\\F\\F418.png     F\n",
       "958    data\\ECG_Image_data\\test\\M\\M971.png     M\n",
       "959  data\\ECG_Image_data\\test\\N\\N84538.png     N\n",
       "\n",
       "[960 rows x 2 columns]"
      ]
     },
     "execution_count": 5,
     "metadata": {},
     "output_type": "execute_result"
    }
   ],
   "source": [
    "dataframe_test"
   ]
  },
  {
   "cell_type": "code",
   "execution_count": 6,
   "metadata": {},
   "outputs": [],
   "source": [
    "def gray_torgb(image):\n",
    "    image = cv2.cvtColor(image, cv2.COLOR_BGR2GRAY)\n",
    "    image = cv2.merge((image,image,image))\n",
    "    image = tf.keras.applications.resnet50.preprocess_input(image)\n",
    "    return image\n"
   ]
  },
  {
   "cell_type": "code",
   "execution_count": 7,
   "metadata": {},
   "outputs": [],
   "source": [
    "test_generator = tf.keras.preprocessing.image.ImageDataGenerator(\n",
    "    preprocessing_function=gray_torgb,\n",
    "    rescale=1./255\n",
    ")"
   ]
  },
  {
   "cell_type": "code",
   "execution_count": 9,
   "metadata": {},
   "outputs": [
    {
     "name": "stdout",
     "output_type": "stream",
     "text": [
      "Found 960 validated image filenames belonging to 6 classes.\n"
     ]
    }
   ],
   "source": [
    "size=224\n",
    "color_mode='rgb'\n",
    "batch_size=32\n",
    "\n",
    "test_images = test_generator.flow_from_dataframe(\n",
    "    dataframe=dataframe_test,\n",
    "    x_col='Filepath',\n",
    "    y_col='Label',\n",
    "    target_size=(size, size),\n",
    "    color_mode=color_mode,\n",
    "    class_mode='categorical',\n",
    "    batch_size=batch_size,\n",
    "    shuffle=False\n",
    ")"
   ]
  },
  {
   "cell_type": "code",
   "execution_count": 10,
   "metadata": {},
   "outputs": [
    {
     "data": {
      "text/plain": [
       "{'F': 0, 'M': 1, 'N': 2, 'Q': 3, 'S': 4, 'V': 5}"
      ]
     },
     "execution_count": 10,
     "metadata": {},
     "output_type": "execute_result"
    }
   ],
   "source": [
    "test_images.class_indices"
   ]
  },
  {
   "cell_type": "code",
   "execution_count": 11,
   "metadata": {},
   "outputs": [
    {
     "data": {
      "text/plain": [
       "<matplotlib.image.AxesImage at 0x2a9593a2f80>"
      ]
     },
     "execution_count": 11,
     "metadata": {},
     "output_type": "execute_result"
    },
    {
     "data": {
      "image/png": "[encoded data removed]",
      "text/plain": [
       "<Figure size 640x480 with 1 Axes>"
      ]
     },
     "metadata": {},
     "output_type": "display_data"
    }
   ],
   "source": [
    "plt.imshow(test_images[0][0][3])"
   ]
  },
  {
   "cell_type": "code",
   "execution_count": 12,
   "metadata": {},
   "outputs": [
    {
     "name": "stdout",
     "output_type": "stream",
     "text": [
      "     Test Loss: 0.2150\n",
      " Test Accuracy: 92.5000%\n",
      "Test Precision: 92.5810%\n",
      "   Test Recall: 92.2917%\n",
      "      Test AUC: 0.9935\n"
     ]
    }
   ],
   "source": [
    "from keras.models import load_model\n",
    "best_model=load_model('ECG_Model1.h5')\n",
    "results = best_model.evaluate(test_images, verbose=0)\n",
    "\n",
    "print(\"     Test Loss: {:.4f}\".format(results[0]))\n",
    "print(\" Test Accuracy: {:.4f}%\".format(results[1] * 100))\n",
    "print(\"Test Precision: {:.4f}%\".format(results[2] * 100))\n",
    "print(\"   Test Recall: {:.4f}%\".format(results[3] * 100))\n",
    "print(\"      Test AUC: {:.4f}\".format(results[4] ))"
   ]
  },
  {
   "cell_type": "code",
   "execution_count": 13,
   "metadata": {},
   "outputs": [
    {
     "name": "stdout",
     "output_type": "stream",
     "text": [
      "30/30 [==============================] - 24s 787ms/step\n"
     ]
    },
    {
     "data": {
      "text/plain": [
       "array([[5.0358109e-09, 9.8558432e-01, 7.1727308e-28, 1.5688406e-18,\n",
       "        1.4415623e-02, 7.5304087e-08],\n",
       "       [8.8594067e-01, 1.3894689e-05, 9.3833419e-10, 1.4198205e-04,\n",
       "        5.9382068e-03, 1.0796528e-01],\n",
       "       [9.3017751e-04, 1.2501819e-08, 1.3887283e-03, 9.8632127e-01,\n",
       "        5.1681724e-07, 1.1359311e-02],\n",
       "       ...,\n",
       "       [8.7409532e-01, 7.8328467e-06, 8.1841103e-09, 5.1352096e-04,\n",
       "        3.0313691e-03, 1.2235203e-01],\n",
       "       [8.3728702e-10, 9.8730576e-01, 4.3578923e-30, 7.5395742e-20,\n",
       "        1.2694158e-02, 2.8482557e-08],\n",
       "       [3.7714931e-06, 2.6268978e-11, 9.2687285e-01, 7.3103100e-02,\n",
       "        1.3240813e-10, 2.0322419e-05]], dtype=float32)"
      ]
     },
     "execution_count": 13,
     "metadata": {},
     "output_type": "execute_result"
    }
   ],
   "source": [
    "y_pred = best_model.predict(test_images)\n",
    "y_pred"
   ]
  },
  {
   "cell_type": "code",
   "execution_count": 15,
   "metadata": {},
   "outputs": [
    {
     "data": {
      "text/plain": [
       "array([1, 0, 3, 3, 3, 1, 5, 1, 2, 2, 5, 3, 1, 2, 4, 4, 2, 4, 5, 2, 1, 3,\n",
       "       4, 2, 4, 4, 4, 3, 2, 5, 3, 1, 2, 3, 2, 3, 4, 5, 4, 5, 0, 5, 4, 3,\n",
       "       1, 4, 1, 4, 1, 0, 2, 2, 0, 3, 3, 0, 5, 0, 4, 0, 3, 5, 2, 5, 3, 0,\n",
       "       5, 3, 1, 5, 1, 5, 5, 0, 5, 3, 0, 2, 0, 2, 0, 0, 4, 3, 2, 5, 2, 4,\n",
       "       5, 5, 4, 5, 0, 1, 4, 2, 4, 1, 4, 2, 5, 2, 4, 5, 4, 4, 1, 0, 1, 4,\n",
       "       3, 4, 4, 5, 2, 2, 2, 3, 3, 3, 0, 2, 4, 0, 1, 3, 4, 4, 4, 5, 4, 5,\n",
       "       2, 4, 2, 0, 3, 3, 2, 0, 4, 2, 1, 3, 0, 0, 4, 3, 2, 1, 5, 3, 4, 4,\n",
       "       1, 2, 4, 3, 0, 3, 3, 5, 5, 3, 1, 1, 4, 0, 3, 0, 5, 4, 1, 1, 0, 5,\n",
       "       2, 5, 0, 2, 5, 0, 4, 3, 4, 4, 4, 1, 4, 2, 1, 4, 3, 4, 4, 4, 0, 0,\n",
       "       5, 1, 5, 0, 5, 0, 1, 2, 0, 2, 4, 0, 0, 3, 0, 4, 2, 4, 1, 0, 5, 0,\n",
       "       0, 0, 3, 2, 4, 2, 0, 5, 2, 4, 1, 2, 4, 0, 5, 2, 5, 0, 4, 4, 3, 2,\n",
       "       4, 4, 0, 5, 0, 3, 2, 3, 2, 4, 2, 3, 4, 4, 3, 3, 0, 5, 4, 0, 2, 1,\n",
       "       5, 1, 3, 2, 5, 5, 1, 0, 3, 5, 0, 2, 0, 1, 4, 5, 4, 4, 0, 0, 2, 3,\n",
       "       3, 2, 0, 5, 4, 3, 1, 2, 1, 0, 1, 0, 5, 2, 3, 2, 0, 4, 5, 4, 5, 1,\n",
       "       4, 4, 1, 1, 1, 1, 5, 0, 5, 0, 5, 1, 5, 1, 4, 2, 2, 0, 2, 0, 3, 2,\n",
       "       5, 5, 2, 1, 1, 0, 0, 2, 2, 4, 0, 2, 5, 0, 2, 4, 2, 3, 0, 5, 5, 0,\n",
       "       3, 0, 5, 2, 2, 3, 4, 4, 2, 1, 4, 5, 2, 4, 0, 2, 3, 3, 4, 5, 4, 2,\n",
       "       4, 3, 4, 0, 2, 4, 1, 4, 3, 4, 0, 4, 5, 1, 0, 5, 1, 1, 2, 3, 0, 0,\n",
       "       1, 3, 0, 5, 2, 5, 4, 2, 0, 5, 3, 4, 3, 2, 2, 1, 4, 4, 4, 4, 2, 0,\n",
       "       4, 4, 0, 3, 2, 3, 4, 2, 2, 4, 5, 2, 4, 2, 1, 0, 0, 4, 4, 3, 2, 3,\n",
       "       5, 5, 3, 1, 1, 2, 1, 3, 3, 1, 1, 3, 2, 4, 0, 2, 4, 4, 2, 5, 3, 3,\n",
       "       1, 4, 0, 2, 1, 4, 3, 4, 5, 4, 5, 2, 5, 3, 2, 3, 0, 3, 5, 5, 1, 2,\n",
       "       2, 2, 2, 2, 5, 3, 4, 3, 3, 4, 4, 2, 4, 4, 1, 3, 4, 0, 5, 5, 2, 3,\n",
       "       5, 3, 5, 4, 5, 0, 3, 4, 3, 0, 1, 3, 2, 3, 5, 3, 1, 2, 4, 5, 5, 0,\n",
       "       4, 0, 4, 0, 4, 0, 3, 1, 0, 5, 3, 5, 4, 0, 2, 2, 3, 1, 3, 4, 4, 5,\n",
       "       4, 5, 4, 5, 3, 4, 3, 2, 0, 0, 5, 5, 1, 3, 5, 4, 0, 1, 2, 1, 4, 0,\n",
       "       3, 5, 3, 4, 0, 2, 1, 3, 3, 4, 2, 2, 0, 2, 2, 2, 3, 3, 3, 5, 3, 0,\n",
       "       1, 5, 4, 3, 0, 1, 0, 0, 0, 2, 4, 1, 2, 5, 0, 0, 0, 4, 2, 0, 2, 5,\n",
       "       5, 5, 4, 5, 3, 4, 3, 4, 4, 0, 3, 0, 3, 1, 3, 5, 0, 3, 4, 2, 0, 5,\n",
       "       4, 4, 3, 2, 5, 0, 0, 0, 1, 3, 2, 3, 1, 5, 1, 3, 4, 2, 2, 2, 0, 4,\n",
       "       0, 3, 1, 1, 5, 1, 4, 1, 1, 0, 3, 3, 4, 0, 3, 1, 1, 3, 1, 5, 1, 3,\n",
       "       4, 4, 0, 0, 5, 2, 0, 4, 0, 0, 1, 4, 2, 4, 3, 0, 2, 3, 0, 0, 4, 4,\n",
       "       5, 3, 4, 1, 2, 2, 2, 1, 5, 1, 5, 0, 5, 5, 2, 5, 2, 2, 3, 1, 2, 1,\n",
       "       4, 2, 5, 0, 0, 2, 0, 0, 4, 5, 3, 5, 2, 3, 3, 5, 3, 3, 4, 1, 4, 5,\n",
       "       3, 3, 0, 1, 0, 4, 1, 0, 1, 2, 3, 3, 4, 3, 2, 5, 4, 4, 4, 5, 1, 5,\n",
       "       0, 0, 5, 4, 1, 3, 4, 5, 1, 1, 0, 0, 4, 5, 5, 5, 1, 5, 2, 1, 3, 0,\n",
       "       5, 1, 3, 4, 1, 3, 0, 4, 1, 5, 4, 5, 2, 3, 5, 5, 5, 5, 4, 2, 3, 4,\n",
       "       3, 4, 2, 0, 2, 1, 2, 1, 0, 4, 5, 0, 4, 5, 0, 5, 0, 3, 2, 4, 2, 1,\n",
       "       0, 2, 0, 5, 0, 3, 5, 4, 3, 1, 4, 0, 3, 3, 4, 2, 0, 1, 1, 5, 3, 1,\n",
       "       4, 2, 4, 4, 0, 4, 3, 1, 4, 1, 5, 0, 2, 3, 3, 1, 2, 4, 4, 2, 5, 4,\n",
       "       1, 3, 4, 3, 2, 4, 2, 2, 3, 4, 0, 5, 3, 0, 2, 5, 2, 5, 4, 5, 0, 5,\n",
       "       3, 3, 2, 5, 3, 5, 3, 0, 4, 4, 4, 4, 1, 0, 5, 4, 5, 0, 1, 2, 3, 2,\n",
       "       2, 0, 3, 5, 4, 1, 0, 5, 3, 0, 4, 5, 4, 0, 3, 0, 3, 4, 1, 1, 4, 3,\n",
       "       0, 4, 5, 2, 2, 0, 4, 4, 0, 4, 2, 0, 1, 2], dtype=int64)"
      ]
     },
     "execution_count": 15,
     "metadata": {},
     "output_type": "execute_result"
    }
   ],
   "source": [
    "y_pred = np.argmax(y_pred, axis=1)\n",
    "y_pred"
   ]
  },
  {
   "cell_type": "code",
   "execution_count": 16,
   "metadata": {},
   "outputs": [
    {
     "name": "stdout",
     "output_type": "stream",
     "text": [
      "[[149   0   0   0   0  11]\n",
      " [  0 120   0   0  40   0]\n",
      " [  0   0 158   2   0   0]\n",
      " [  0   0   1 159   0   0]\n",
      " [  0   2   0   0 158   0]\n",
      " [ 16   0   0   0   0 144]]\n",
      "              precision    recall  f1-score   support\n",
      "\n",
      "           F     0.9030    0.9313    0.9169       160\n",
      "           M     0.9836    0.7500    0.8511       160\n",
      "           N     0.9937    0.9875    0.9906       160\n",
      "           Q     0.9876    0.9938    0.9907       160\n",
      "           S     0.7980    0.9875    0.8827       160\n",
      "           V     0.9290    0.9000    0.9143       160\n",
      "\n",
      "    accuracy                         0.9250       960\n",
      "   macro avg     0.9325    0.9250    0.9244       960\n",
      "weighted avg     0.9325    0.9250    0.9244       960\n",
      "\n"
     ]
    }
   ],
   "source": [
    "from sklearn.metrics import confusion_matrix, classification_report\n",
    "\n",
    "\n",
    "cm = confusion_matrix(test_images.labels, y_pred)\n",
    "print(cm)\n",
    "\n",
    "report = classification_report(test_images.labels, y_pred, target_names=['F', 'M', 'N', 'Q', 'S', 'V'],digits=4)\n",
    "print(report )\n",
    "\n",
    "def report_to_df(report):\n",
    "    report = [x.split(' ') for x in report.split('\\n')]\n",
    "    header = ['Class Name']+[x for x in report[0] if x!='']\n",
    "    values = []\n",
    "    for row in report[1:-5]:\n",
    "        row = [value for value in row if value!='']\n",
    "        if row!=[]:\n",
    "            values.append(row)\n",
    "    df = pd.DataFrame(data = values, columns = header)\n",
    "    return df\n",
    "report = report_to_df(report)\n",
    "\n",
    "report.to_csv('classification report.csv', index=True)"
   ]
  },
  {
   "cell_type": "code",
   "execution_count": 17,
   "metadata": {},
   "outputs": [
    {
     "name": "stdout",
     "output_type": "stream",
     "text": [
      "Confusion matrix, without normalization\n"
     ]
    },
    {
     "data": {
      "image/png": "[encoded data removed]",
      "text/plain": [
       "<Figure size 800x600 with 2 Axes>"
      ]
     },
     "metadata": {},
     "output_type": "display_data"
    }
   ],
   "source": [
    "import itertools\n",
    "def plot_confusion_matrix(cm, classes,\n",
    "                          normalize=False,\n",
    "                          title='Confusion matrix',\n",
    "                          cmap=plt.cm.Oranges):\n",
    "    \"\"\"\n",
    "    This function prints and plots the confusion matrix.\n",
    "    Normalization can be applied by setting `normalize=True`.\n",
    "    \"\"\"\n",
    "    if normalize:\n",
    "        cm = cm.astype('float') / cm.sum(axis=1)[:, np.newaxis]\n",
    "        print(\"Normalized confusion matrix\")\n",
    "    else:\n",
    "        print('Confusion matrix, without normalization')\n",
    "    plt.figure(figsize=(8, 6))\n",
    "    plt.imshow(cm, interpolation='nearest', cmap=cmap)\n",
    "    plt.title(title)\n",
    "    tick_marks = np.arange(len(classes))\n",
    "    plt.xticks(tick_marks, classes, rotation=45)\n",
    "    plt.yticks(tick_marks, classes)\n",
    "    plt.colorbar()\n",
    "\n",
    "    fmt = '.4f' if normalize else 'd'\n",
    "    thresh = cm.max() / 2.\n",
    "    for i, j in itertools.product(range(cm.shape[0]), range(cm.shape[1])):\n",
    "        plt.text(j, i, format(cm[i, j], fmt),\n",
    "                 horizontalalignment=\"center\",\n",
    "                 color=\"white\" if cm[i, j] > thresh else \"black\")\n",
    "\n",
    "    plt.tight_layout()\n",
    "    plt.rcParams['font.size'] = '20'\n",
    "    \n",
    "    \n",
    "plot_confusion_matrix(cm, classes=['F', 'M', 'N', 'Q', 'S', 'V'],normalize=False,title='Confusion matrix')\n",
    "plt.ylabel('True label')\n",
    "plt.xlabel('Predicted label')\n",
    "plt.savefig('confusion matrix' + '.jpg', dpi=500, bbox_inches = 'tight')\n"
   ]
  },
  {
   "cell_type": "code",
   "execution_count": 20,
   "metadata": {},
   "outputs": [
    {
     "name": "stdout",
     "output_type": "stream",
     "text": [
      "Normalized confusion matrix\n"
     ]
    },
    {
     "data": {
      "image/png": "[encoded data removed]",
      "text/plain": [
       "<Figure size 800x600 with 2 Axes>"
      ]
     },
     "metadata": {},
     "output_type": "display_data"
    }
   ],
   "source": [
    "import itertools\n",
    "def plot_confusion_matrix(cm, classes,\n",
    "                          normalize=False,\n",
    "                          title='Confusion matrix',\n",
    "                          cmap=plt.cm.Oranges):\n",
    "    \"\"\"\n",
    "    This function prints and plots the confusion matrix.\n",
    "    Normalization can be applied by setting `normalize=True`.\n",
    "    \"\"\"\n",
    "    if normalize:\n",
    "        cm = cm.astype('float') / cm.sum(axis=1)[:, np.newaxis]\n",
    "        print(\"Normalized confusion matrix\")\n",
    "    else:\n",
    "        print('Confusion matrix, without normalization')\n",
    "    plt.figure(figsize=(8, 6))\n",
    "    plt.imshow(cm, interpolation='nearest', cmap=cmap)\n",
    "    plt.title(title)\n",
    "    tick_marks = np.arange(len(classes))\n",
    "    plt.xticks(tick_marks, classes, rotation=45)\n",
    "    plt.yticks(tick_marks, classes)\n",
    "    plt.colorbar()\n",
    "\n",
    "    fmt = '.4f' if normalize else 'd'\n",
    "    thresh = cm.max() / 2.\n",
    "    for i, j in itertools.product(range(cm.shape[0]), range(cm.shape[1])):\n",
    "        plt.text(j, i, format(cm[i, j], fmt),\n",
    "                 horizontalalignment=\"center\",\n",
    "                 color=\"white\" if cm[i, j] > thresh else \"black\")\n",
    "\n",
    "    plt.tight_layout()\n",
    "    plt.rcParams['font.size'] = '7'\n",
    "    \n",
    "    \n",
    "plot_confusion_matrix(cm, classes=['F', 'M', 'N', 'Q', 'S', 'V'],normalize=True,title='normalized Confusion matrix')\n",
    "plt.ylabel('True label')\n",
    "plt.xlabel('Predicted label')\n",
    "plt.savefig('normalized confusion matrix' + '.jpg', dpi=500, bbox_inches = 'tight')\n"
   ]
  }
 ],
 "metadata": {
  "kernelspec": {
   "display_name": "base",
   "language": "python",
   "name": "python3"
  },
  "language_info": {
   "codemirror_mode": {
    "name": "ipython",
    "version": 3
   },
   "file_extension": ".py",
   "mimetype": "text/x-python",
   "name": "python",
   "nbconvert_exporter": "python",
   "pygments_lexer": "ipython3",
   "version": "3.10.9"
  },
  "orig_nbformat": 4
 },
 "nbformat": 4,
 "nbformat_minor": 2
}
