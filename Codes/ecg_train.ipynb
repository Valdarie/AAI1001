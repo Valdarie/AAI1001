{
 "cells": [
  {
   "cell_type": "markdown",
   "metadata": {},
   "source": [
    "### 1. Data Preprocessing"
   ]
  },
  {
   "cell_type": "code",
   "execution_count": 1,
   "metadata": {},
   "outputs": [],
   "source": [
    "# Import libraries\n",
    "import numpy as np\n",
    "import pandas as pd\n",
    "from pathlib import Path\n",
    "import os.path\n",
    "import matplotlib.pyplot as plt\n",
    "import tensorflow as tf\n",
    "import cv2"
   ]
  },
  {
   "cell_type": "code",
   "execution_count": 2,
   "metadata": {},
   "outputs": [
    {
     "data": {
      "text/html": [
       "<div>\n",
       "<style scoped>\n",
       "    .dataframe tbody tr th:only-of-type {\n",
       "        vertical-align: middle;\n",
       "    }\n",
       "\n",
       "    .dataframe tbody tr th {\n",
       "        vertical-align: top;\n",
       "    }\n",
       "\n",
       "    .dataframe thead th {\n",
       "        text-align: right;\n",
       "    }\n",
       "</style>\n",
       "<table border=\"1\" class=\"dataframe\">\n",
       "  <thead>\n",
       "    <tr style=\"text-align: right;\">\n",
       "      <th></th>\n",
       "      <th>Filepath</th>\n",
       "      <th>Label</th>\n",
       "    </tr>\n",
       "  </thead>\n",
       "  <tbody>\n",
       "    <tr>\n",
       "      <th>0</th>\n",
       "      <td>archive\\train\\F\\F1.png</td>\n",
       "      <td>F</td>\n",
       "    </tr>\n",
       "    <tr>\n",
       "      <th>1</th>\n",
       "      <td>archive\\train\\F\\F10.png</td>\n",
       "      <td>F</td>\n",
       "    </tr>\n",
       "    <tr>\n",
       "      <th>2</th>\n",
       "      <td>archive\\train\\F\\F100.png</td>\n",
       "      <td>F</td>\n",
       "    </tr>\n",
       "    <tr>\n",
       "      <th>3</th>\n",
       "      <td>archive\\train\\F\\F101.png</td>\n",
       "      <td>F</td>\n",
       "    </tr>\n",
       "    <tr>\n",
       "      <th>4</th>\n",
       "      <td>archive\\train\\F\\F102.png</td>\n",
       "      <td>F</td>\n",
       "    </tr>\n",
       "    <tr>\n",
       "      <th>...</th>\n",
       "      <td>...</td>\n",
       "      <td>...</td>\n",
       "    </tr>\n",
       "    <tr>\n",
       "      <th>99194</th>\n",
       "      <td>archive\\train\\V\\V995.png</td>\n",
       "      <td>V</td>\n",
       "    </tr>\n",
       "    <tr>\n",
       "      <th>99195</th>\n",
       "      <td>archive\\train\\V\\V996.png</td>\n",
       "      <td>V</td>\n",
       "    </tr>\n",
       "    <tr>\n",
       "      <th>99196</th>\n",
       "      <td>archive\\train\\V\\V997.png</td>\n",
       "      <td>V</td>\n",
       "    </tr>\n",
       "    <tr>\n",
       "      <th>99197</th>\n",
       "      <td>archive\\train\\V\\V998.png</td>\n",
       "      <td>V</td>\n",
       "    </tr>\n",
       "    <tr>\n",
       "      <th>99198</th>\n",
       "      <td>archive\\train\\V\\V999.png</td>\n",
       "      <td>V</td>\n",
       "    </tr>\n",
       "  </tbody>\n",
       "</table>\n",
       "<p>99199 rows × 2 columns</p>\n",
       "</div>"
      ],
      "text/plain": [
       "                       Filepath Label\n",
       "0        archive\\train\\F\\F1.png     F\n",
       "1       archive\\train\\F\\F10.png     F\n",
       "2      archive\\train\\F\\F100.png     F\n",
       "3      archive\\train\\F\\F101.png     F\n",
       "4      archive\\train\\F\\F102.png     F\n",
       "...                         ...   ...\n",
       "99194  archive\\train\\V\\V995.png     V\n",
       "99195  archive\\train\\V\\V996.png     V\n",
       "99196  archive\\train\\V\\V997.png     V\n",
       "99197  archive\\train\\V\\V998.png     V\n",
       "99198  archive\\train\\V\\V999.png     V\n",
       "\n",
       "[99199 rows x 2 columns]"
      ]
     },
     "execution_count": 2,
     "metadata": {},
     "output_type": "execute_result"
    }
   ],
   "source": [
    "dir = Path('archive/train')\n",
    "\n",
    "# Use the 'glob' method to get a list of file paths for all PNG files in the specified directory and its subdirectories\n",
    "filepaths = list(dir.glob('**/*.png'))\n",
    "\n",
    "# Extract the labels (categories) from the file paths\n",
    "# The labels are obtained by splitting the file paths and extracting the parent directory name, which represents the \n",
    "# category of each image\n",
    "labels = list(map(lambda x: os.path.split(os.path.split(x)[0])[1], filepaths))\n",
    "\n",
    "# Convert the lists of file paths and labels into pandas Series objects for further processing\n",
    "filepaths = pd.Series(filepaths, name='Filepath', dtype=str)\n",
    "labels = pd.Series(labels, name='Label', dtype=str)\n",
    "\n",
    "# Create a dataframe by concatenating the 'filepaths' and 'labels' Series horizontally, representing the mapping between \n",
    "# file paths and corresponding labels\n",
    "dataframe = pd.concat([filepaths , labels] , axis=1)\n",
    "dataframe"
   ]
  },
  {
   "cell_type": "code",
   "execution_count": 3,
   "metadata": {},
   "outputs": [
    {
     "data": {
      "text/plain": [
       "N    75709\n",
       "M     8405\n",
       "Q     6431\n",
       "V     5789\n",
       "S     2223\n",
       "F      642\n",
       "Name: Label, dtype: int64"
      ]
     },
     "execution_count": 3,
     "metadata": {},
     "output_type": "execute_result"
    }
   ],
   "source": [
    "# Count the occurrences of unique values in the 'Label' column of the 'dataframe' DataFrame\n",
    "dataframe['Label'].value_counts()"
   ]
  },
  {
   "cell_type": "markdown",
   "metadata": {},
   "source": [
    "### 2. Data Balancing"
   ]
  },
  {
   "cell_type": "code",
   "execution_count": 4,
   "metadata": {},
   "outputs": [
    {
     "data": {
      "text/plain": [
       "N    640\n",
       "Q    640\n",
       "S    640\n",
       "F    640\n",
       "M    640\n",
       "V    640\n",
       "Name: Label, dtype: int64"
      ]
     },
     "execution_count": 4,
     "metadata": {},
     "output_type": "execute_result"
    }
   ],
   "source": [
    "samples = []\n",
    "\n",
    "for category in ['N', 'M', 'Q', 'V', 'S', 'F']:\n",
    "    # Use the 'query' method to filter the 'dataframe' DataFrame for rows where the 'Label' column matches the current category\n",
    "    category_slice = dataframe.query('Label == @category')\n",
    "    \n",
    "    # Sample 640 random rows from the filtered category slice using 'sample' method\n",
    "    # The 'random_state=1' ensures reproducibility of the random sampling\n",
    "    samples.append(category_slice.sample(640, random_state=1))\n",
    "\n",
    "# Concatenate the sampled dataframes in the 'samples' list along the row axis (vertically)\n",
    "# This creates a new dataframe 'dataframe_train' that includes balanced samples for each category\n",
    "dataframe_train = pd.concat(samples, axis=0)\n",
    "\n",
    "# Shuffle the rows of the new dataframe 'dataframe_train' randomly using 'sample' method with 'frac=1.0' (all rows)\n",
    "# The 'random_state=1' ensures reproducibility of the shuffling\n",
    "# Reset the index of the shuffled dataframe to have consecutive integers as indices\n",
    "dataframe_train = dataframe_train.sample(frac=1.0, random_state=1).reset_index(drop=True)\n",
    "\n",
    "# Count the occurrences of each category in the 'Label' column of the 'dataframe' DataFrame\n",
    "# This provides a summary of the distribution of categories in the balanced training dataset\n",
    "dataframe_train['Label'].value_counts()"
   ]
  },
  {
   "cell_type": "code",
   "execution_count": 5,
   "metadata": {},
   "outputs": [
    {
     "data": {
      "text/html": [
       "<div>\n",
       "<style scoped>\n",
       "    .dataframe tbody tr th:only-of-type {\n",
       "        vertical-align: middle;\n",
       "    }\n",
       "\n",
       "    .dataframe tbody tr th {\n",
       "        vertical-align: top;\n",
       "    }\n",
       "\n",
       "    .dataframe thead th {\n",
       "        text-align: right;\n",
       "    }\n",
       "</style>\n",
       "<table border=\"1\" class=\"dataframe\">\n",
       "  <thead>\n",
       "    <tr style=\"text-align: right;\">\n",
       "      <th></th>\n",
       "      <th>Filepath</th>\n",
       "      <th>Label</th>\n",
       "    </tr>\n",
       "  </thead>\n",
       "  <tbody>\n",
       "    <tr>\n",
       "      <th>0</th>\n",
       "      <td>archive\\train\\N\\N80645.png</td>\n",
       "      <td>N</td>\n",
       "    </tr>\n",
       "    <tr>\n",
       "      <th>1</th>\n",
       "      <td>archive\\train\\Q\\Q644.png</td>\n",
       "      <td>Q</td>\n",
       "    </tr>\n",
       "    <tr>\n",
       "      <th>2</th>\n",
       "      <td>archive\\train\\S\\S2383.png</td>\n",
       "      <td>S</td>\n",
       "    </tr>\n",
       "    <tr>\n",
       "      <th>3</th>\n",
       "      <td>archive\\train\\S\\S2269.png</td>\n",
       "      <td>S</td>\n",
       "    </tr>\n",
       "    <tr>\n",
       "      <th>4</th>\n",
       "      <td>archive\\train\\F\\F138.png</td>\n",
       "      <td>F</td>\n",
       "    </tr>\n",
       "    <tr>\n",
       "      <th>...</th>\n",
       "      <td>...</td>\n",
       "      <td>...</td>\n",
       "    </tr>\n",
       "    <tr>\n",
       "      <th>3835</th>\n",
       "      <td>archive\\train\\S\\S1594.png</td>\n",
       "      <td>S</td>\n",
       "    </tr>\n",
       "    <tr>\n",
       "      <th>3836</th>\n",
       "      <td>archive\\train\\M\\M5641.png</td>\n",
       "      <td>M</td>\n",
       "    </tr>\n",
       "    <tr>\n",
       "      <th>3837</th>\n",
       "      <td>archive\\train\\M\\M8804.png</td>\n",
       "      <td>M</td>\n",
       "    </tr>\n",
       "    <tr>\n",
       "      <th>3838</th>\n",
       "      <td>archive\\train\\N\\N46498.png</td>\n",
       "      <td>N</td>\n",
       "    </tr>\n",
       "    <tr>\n",
       "      <th>3839</th>\n",
       "      <td>archive\\train\\M\\M7168.png</td>\n",
       "      <td>M</td>\n",
       "    </tr>\n",
       "  </tbody>\n",
       "</table>\n",
       "<p>3840 rows × 2 columns</p>\n",
       "</div>"
      ],
      "text/plain": [
       "                        Filepath Label\n",
       "0     archive\\train\\N\\N80645.png     N\n",
       "1       archive\\train\\Q\\Q644.png     Q\n",
       "2      archive\\train\\S\\S2383.png     S\n",
       "3      archive\\train\\S\\S2269.png     S\n",
       "4       archive\\train\\F\\F138.png     F\n",
       "...                          ...   ...\n",
       "3835   archive\\train\\S\\S1594.png     S\n",
       "3836   archive\\train\\M\\M5641.png     M\n",
       "3837   archive\\train\\M\\M8804.png     M\n",
       "3838  archive\\train\\N\\N46498.png     N\n",
       "3839   archive\\train\\M\\M7168.png     M\n",
       "\n",
       "[3840 rows x 2 columns]"
      ]
     },
     "execution_count": 5,
     "metadata": {},
     "output_type": "execute_result"
    }
   ],
   "source": [
    "dataframe_train"
   ]
  },
  {
   "cell_type": "markdown",
   "metadata": {},
   "source": [
    "### 3. Image Preprocessing and Data Augmentation"
   ]
  },
  {
   "cell_type": "code",
   "execution_count": 6,
   "metadata": {},
   "outputs": [],
   "source": [
    "def gray_torgb(image):\n",
    "    # Convert the input image from BGR (Blue-Green-Red) color space to grayscale using OpenCV\n",
    "    image = cv2.cvtColor(image, cv2.COLOR_BGR2GRAY)\n",
    "    \n",
    "    # Merge the grayscale image into a 3-channel image (RGB format) by replicating the grayscale values for all channels\n",
    "    image = cv2.merge((image, image, image))\n",
    "    \n",
    "    # Preprocess the image using the preprocessing function from ResNet50 model in Keras/TensorFlow\n",
    "    # This step ensures that the image is properly preprocessed to match the requirements of the ResNet50 model\n",
    "    image = tf.keras.applications.resnet50.preprocess_input(image)\n",
    "    \n",
    "    # Return the preprocessed RGB image\n",
    "    return image"
   ]
  },
  {
   "cell_type": "code",
   "execution_count": 7,
   "metadata": {},
   "outputs": [],
   "source": [
    "# Define an ImageDataGenerator for generating batches of preprocessed images for training\n",
    "train_generator = tf.keras.preprocessing.image.ImageDataGenerator(\n",
    "    preprocessing_function=gray_torgb,   # Apply the 'gray_torgb' function to preprocess each image\n",
    "    rescale=1./255,                      # Rescale the pixel values of images to the range [0, 1]\n",
    "    validation_split=0.2                 # Split the data into training and validation sets (80% training, 20% validation)\n",
    ")"
   ]
  },
  {
   "cell_type": "markdown",
   "metadata": {},
   "source": [
    "### 4. Create Model"
   ]
  },
  {
   "cell_type": "code",
   "execution_count": 8,
   "metadata": {},
   "outputs": [
    {
     "name": "stdout",
     "output_type": "stream",
     "text": [
      "Found 3072 validated image filenames belonging to 6 classes.\n",
      "Found 768 validated image filenames belonging to 6 classes.\n"
     ]
    }
   ],
   "source": [
    "# Set parameters for image processing and data generation\n",
    "size = 224              # Target size for resizing images (224x224)\n",
    "color_mode = 'rgb'      # Color mode for the images (RGB format)\n",
    "batch_size = 32        # Number of images in each batch\n",
    "\n",
    "# Create image data generators for training and validation sets\n",
    "train_images = train_generator.flow_from_dataframe(\n",
    "    dataframe=dataframe_train,       # Input dataframe containing file paths and labels\n",
    "    x_col='Filepath',                # Name of the dataframe column containing file paths\n",
    "    y_col='Label',                   # Name of the dataframe column containing labels\n",
    "    target_size=(size, size),        # Target size for resizing the images\n",
    "    color_mode=color_mode,           # Color mode for the images\n",
    "    class_mode='categorical',        # Type of label encoding ('categorical' for one-hot encoded labels)\n",
    "    batch_size=batch_size,           # Number of images in each batch\n",
    "    shuffle=True,                    # Shuffle the data during training\n",
    "    seed=42,                         # Seed for random number generation (for reproducibility)\n",
    "    subset='training'                # Subset of the data (training set)\n",
    ")\n",
    "\n",
    "val_images = train_generator.flow_from_dataframe(\n",
    "    dataframe=dataframe_train,       \n",
    "    x_col='Filepath',               \n",
    "    y_col='Label',                   \n",
    "    target_size=(size, size),        \n",
    "    color_mode=color_mode,           \n",
    "    class_mode='categorical',        \n",
    "    batch_size=batch_size,           \n",
    "    shuffle=True,                    \n",
    "    seed=42,                         \n",
    "    subset='validation'              \n",
    ")"
   ]
  },
  {
   "cell_type": "code",
   "execution_count": 9,
   "metadata": {},
   "outputs": [
    {
     "data": {
      "text/plain": [
       "<matplotlib.image.AxesImage at 0x1a53cd41d20>"
      ]
     },
     "execution_count": 9,
     "metadata": {},
     "output_type": "execute_result"
    },
    {
     "data": {
      "image/png": "[encoded data removed]",
      "text/plain": [
       "<Figure size 640x480 with 1 Axes>"
      ]
     },
     "metadata": {},
     "output_type": "display_data"
    }
   ],
   "source": [
    "\"\"\"\n",
    "train_images: A generator object that provides batches of preprocessed training images and their corresponding labels.\n",
    "train_images[0]: Accesses the first batch of images and labels from the generator.\n",
    "train_images[0][0]: Accesses the images from the first batch. The index '0' is used to access the images.\n",
    "train_images[0][0][3]: Selects the 4th image from the first batch (assuming 0-based indexing), as the index '3' is used to access the image.\n",
    "\"\"\"\n",
    "\n",
    "plt.imshow(train_images[0][0][3])"
   ]
  },
  {
   "cell_type": "code",
   "execution_count": 10,
   "metadata": {},
   "outputs": [],
   "source": [
    "\"\"\"\n",
    "input_shape=(224, 224, 3): Specifies the shape of the input images to the ResNet50 model.\n",
    "\n",
    "include_top=False: Specifies to exclude the top (final) layer of the ResNet50 model. False, the final fully connected layers \n",
    "                    used for classification are not included.\n",
    "\n",
    "# weights='imagenet': Specifies to load the pre-trained weights of the ResNet50 model from the 'imagenet' dataset.\n",
    "\n",
    "# pooling='avg': Specifies the global average pooling layer to be used as the final pooling layer in the ResNet50 model. \n",
    "                Global average pooling calculates the average of all values in each feature map, reducing them to a single value.\n",
    "\n",
    "pretrained_model.trainable=False: freezes the weights of ResNet50 model, making them non-trainable during subsequent training.\n",
    "\"\"\"\n",
    "\n",
    "from tensorflow.keras.applications import ResNet50\n",
    "\n",
    "pretrained_model = ResNet50(\n",
    "    input_shape=(224,224,3),    \n",
    "    include_top= False,         \n",
    "    weights='imagenet', \n",
    "    pooling='avg'\n",
    ")\n",
    "\n",
    "pretrained_model.trainable=False"
   ]
  },
  {
   "cell_type": "code",
   "execution_count": 11,
   "metadata": {},
   "outputs": [
    {
     "name": "stdout",
     "output_type": "stream",
     "text": [
      "Model: \"sequential\"\n",
      "_________________________________________________________________\n",
      " Layer (type)                Output Shape              Param #   \n",
      "=================================================================\n",
      " resnet50 (Functional)       (None, 2048)              23587712  \n",
      "                                                                 \n",
      " flatten (Flatten)           (None, 2048)              0         \n",
      "                                                                 \n",
      " dropout (Dropout)           (None, 2048)              0         \n",
      "                                                                 \n",
      " dense (Dense)               (None, 128)               262272    \n",
      "                                                                 \n",
      " dense_1 (Dense)             (None, 64)                8256      \n",
      "                                                                 \n",
      " dense_2 (Dense)             (None, 6)                 390       \n",
      "                                                                 \n",
      "=================================================================\n",
      "Total params: 23858630 (91.01 MB)\n",
      "Trainable params: 270918 (1.03 MB)\n",
      "Non-trainable params: 23587712 (89.98 MB)\n",
      "_________________________________________________________________\n"
     ]
    }
   ],
   "source": [
    "from tensorflow.keras.layers import *\n",
    "from tensorflow.keras.models import *\n",
    "\n",
    "\"\"\"\n",
    "Flatten(): This layer is added to flatten the output of the pretrained_model into a 1-dimensional vector. \n",
    "            This is necessary to connect the output of the pretrained_model to the dense layers.\n",
    "\n",
    "Dropout(0.2): This layer applies dropout regularization with a rate of 0.2, which means 20% of the neurons \n",
    "            will be randomly set to zero during training to prevent overfitting.\n",
    "\n",
    "Dense(128, activation='relu'): This dense layer contains 128 neurons and uses the ReLU activation function. \n",
    "                                The layer is fully connected, meaning each neuron is connected to every neuron \n",
    "                                in the previous layer.\n",
    "\n",
    "Dense(64, activation='relu'): This dense layer contains 64 neurons and uses the ReLU activation function.\n",
    "\n",
    "Dense(6, activation='softmax'): This dense layer contains 6 neurons and uses the softmax activation function. \n",
    "                                Softmax is used for multi-class classification to produce probabilities for each class.\n",
    "\n",
    "model.summary(): prints summary of model's architecture, showing the number of parameters in each layer and the total \n",
    "                number of trainable parameters in the model.\n",
    "\"\"\"\n",
    "\n",
    "model = Sequential ([\n",
    "    pretrained_model,\n",
    "    Flatten(),\n",
    "    Dropout(0.2),\n",
    "    Dense(128, activation='relu'),\n",
    "    Dense(64, activation='relu'),\n",
    "    Dense(6, activation='softmax')\n",
    "])\n",
    "\n",
    "model.summary()"
   ]
  },
  {
   "cell_type": "markdown",
   "metadata": {},
   "source": [
    "### 5. Compile and Train the Model"
   ]
  },
  {
   "cell_type": "code",
   "execution_count": 12,
   "metadata": {},
   "outputs": [],
   "source": [
    "# To monitor the model's performance during training and validation\n",
    "model.compile(\n",
    "    loss='categorical_crossentropy', optimizer='adam', \n",
    "    metrics=[\n",
    "        'Accuracy', \n",
    "        'Precision', \n",
    "        'Recall',\n",
    "         tf.keras.metrics.AUC(\n",
    "             num_thresholds=200,\n",
    "             curve='ROC',\n",
    "             summation_method='interpolation',\n",
    "             multi_label=False\n",
    "         )\n",
    "    ]\n",
    ")"
   ]
  },
  {
   "cell_type": "code",
   "execution_count": 13,
   "metadata": {},
   "outputs": [
    {
     "name": "stdout",
     "output_type": "stream",
     "text": [
      "Epoch 1/10\n",
      "96/96 [==============================] - 161s 2s/step - loss: 1.3127 - Accuracy: 0.4495 - precision: 0.7256 - recall: 0.1162 - auc: 0.8298 - val_loss: 0.8018 - val_Accuracy: 0.7240 - val_precision: 0.6505 - val_recall: 0.3854 - val_auc: 0.9462\n",
      "Epoch 2/10\n",
      "96/96 [==============================] - 505s 5s/step - loss: 0.7146 - Accuracy: 0.7096 - precision: 0.7759 - recall: 0.5524 - auc: 0.9524 - val_loss: 0.5321 - val_Accuracy: 0.8685 - val_precision: 0.8793 - val_recall: 0.7396 - val_auc: 0.9803\n",
      "Epoch 3/10\n",
      "96/96 [==============================] - 313s 3s/step - loss: 0.5141 - Accuracy: 0.8099 - precision: 0.8357 - recall: 0.7598 - auc: 0.9766 - val_loss: 0.4063 - val_Accuracy: 0.8464 - val_precision: 0.8518 - val_recall: 0.8229 - val_auc: 0.9844\n",
      "Epoch 4/10\n",
      "96/96 [==============================] - 358s 4s/step - loss: 0.4340 - Accuracy: 0.8418 - precision: 0.8571 - recall: 0.8242 - auc: 0.9815 - val_loss: 0.3337 - val_Accuracy: 0.8828 - val_precision: 0.8852 - val_recall: 0.8737 - val_auc: 0.9894\n",
      "Epoch 5/10\n",
      "96/96 [==============================] - 555s 6s/step - loss: 0.3690 - Accuracy: 0.8623 - precision: 0.8730 - recall: 0.8522 - auc: 0.9859 - val_loss: 0.3065 - val_Accuracy: 0.9193 - val_precision: 0.9322 - val_recall: 0.9128 - val_auc: 0.9923\n",
      "Epoch 6/10\n",
      "96/96 [==============================] - 317s 3s/step - loss: 0.3240 - Accuracy: 0.8867 - precision: 0.8935 - recall: 0.8796 - auc: 0.9889 - val_loss: 0.2577 - val_Accuracy: 0.9245 - val_precision: 0.9268 - val_recall: 0.9232 - val_auc: 0.9924\n",
      "Epoch 7/10\n",
      "96/96 [==============================] - 388s 4s/step - loss: 0.3235 - Accuracy: 0.8779 - precision: 0.8849 - recall: 0.8711 - auc: 0.9883 - val_loss: 0.2373 - val_Accuracy: 0.9336 - val_precision: 0.9359 - val_recall: 0.9323 - val_auc: 0.9943\n",
      "Epoch 8/10\n",
      "96/96 [==============================] - 229s 2s/step - loss: 0.2780 - Accuracy: 0.8958 - precision: 0.9008 - recall: 0.8926 - auc: 0.9912 - val_loss: 0.2120 - val_Accuracy: 0.9323 - val_precision: 0.9357 - val_recall: 0.9284 - val_auc: 0.9949\n",
      "Epoch 9/10\n",
      "96/96 [==============================] - 287s 3s/step - loss: 0.2587 - Accuracy: 0.9046 - precision: 0.9066 - recall: 0.9007 - auc: 0.9922 - val_loss: 0.2246 - val_Accuracy: 0.9154 - val_precision: 0.9186 - val_recall: 0.9115 - val_auc: 0.9940\n",
      "Epoch 10/10\n",
      "96/96 [==============================] - 213s 2s/step - loss: 0.2495 - Accuracy: 0.9102 - precision: 0.9129 - recall: 0.9076 - auc: 0.9927 - val_loss: 0.1713 - val_Accuracy: 0.9453 - val_precision: 0.9490 - val_recall: 0.9453 - val_auc: 0.9970\n"
     ]
    }
   ],
   "source": [
    "import tensorflow as tf\n",
    "\n",
    "result = model.fit(\n",
    "    train_images,\n",
    "    steps_per_epoch=3072//32,\n",
    "    validation_data=val_images, # provides batches of preprocessed validation images and their corresponding labels\n",
    "    validation_steps=768//32,   # process each batch of data during training and validation\n",
    "    epochs=10\n",
    ")"
   ]
  },
  {
   "cell_type": "code",
   "execution_count": 14,
   "metadata": {},
   "outputs": [
    {
     "name": "stderr",
     "output_type": "stream",
     "text": [
      "c:\\Users\\Xuanting\\anaconda3\\envs\\pyspark\\lib\\site-packages\\keras\\src\\engine\\training.py:3000: UserWarning: You are saving your model as an HDF5 file via `model.save()`. This file format is considered legacy. We recommend using instead the native Keras format, e.g. `model.save('my_model.keras')`.\n",
      "  saving_api.save_model(\n"
     ]
    }
   ],
   "source": [
    "model.save('ECG_Model.h5')"
   ]
  }
 ],
 "metadata": {
  "kernelspec": {
   "display_name": "pyspark",
   "language": "python",
   "name": "python3"
  },
  "language_info": {
   "codemirror_mode": {
    "name": "ipython",
    "version": 3
   },
   "file_extension": ".py",
   "mimetype": "text/x-python",
   "name": "python",
   "nbconvert_exporter": "python",
   "pygments_lexer": "ipython3",
   "version": "3.10.12"
  },
  "orig_nbformat": 4
 },
 "nbformat": 4,
 "nbformat_minor": 2
}
