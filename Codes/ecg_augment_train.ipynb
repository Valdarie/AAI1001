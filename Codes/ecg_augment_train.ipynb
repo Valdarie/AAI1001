{
 "cells": [
  {
   "cell_type": "markdown",
   "metadata": {},
   "source": [
    "### 1. Data Preprocessing"
   ]
  },
  {
   "cell_type": "code",
   "execution_count": 1,
   "metadata": {},
   "outputs": [],
   "source": [
    "# Import libraries\n",
    "import numpy as np\n",
    "import pandas as pd\n",
    "from pathlib import Path\n",
    "import os.path\n",
    "import matplotlib.pyplot as plt\n",
    "import tensorflow as tf\n",
    "import cv2"
   ]
  },
  {
   "cell_type": "code",
   "execution_count": 2,
   "metadata": {},
   "outputs": [
    {
     "data": {
      "text/html": [
       "<div>\n",
       "<style scoped>\n",
       "    .dataframe tbody tr th:only-of-type {\n",
       "        vertical-align: middle;\n",
       "    }\n",
       "\n",
       "    .dataframe tbody tr th {\n",
       "        vertical-align: top;\n",
       "    }\n",
       "\n",
       "    .dataframe thead th {\n",
       "        text-align: right;\n",
       "    }\n",
       "</style>\n",
       "<table border=\"1\" class=\"dataframe\">\n",
       "  <thead>\n",
       "    <tr style=\"text-align: right;\">\n",
       "      <th></th>\n",
       "      <th>Filepath</th>\n",
       "      <th>Label</th>\n",
       "    </tr>\n",
       "  </thead>\n",
       "  <tbody>\n",
       "    <tr>\n",
       "      <th>0</th>\n",
       "      <td>archive\\train\\F\\F1.png</td>\n",
       "      <td>F</td>\n",
       "    </tr>\n",
       "    <tr>\n",
       "      <th>1</th>\n",
       "      <td>archive\\train\\F\\F10.png</td>\n",
       "      <td>F</td>\n",
       "    </tr>\n",
       "    <tr>\n",
       "      <th>2</th>\n",
       "      <td>archive\\train\\F\\F100.png</td>\n",
       "      <td>F</td>\n",
       "    </tr>\n",
       "    <tr>\n",
       "      <th>3</th>\n",
       "      <td>archive\\train\\F\\F101.png</td>\n",
       "      <td>F</td>\n",
       "    </tr>\n",
       "    <tr>\n",
       "      <th>4</th>\n",
       "      <td>archive\\train\\F\\F102.png</td>\n",
       "      <td>F</td>\n",
       "    </tr>\n",
       "    <tr>\n",
       "      <th>...</th>\n",
       "      <td>...</td>\n",
       "      <td>...</td>\n",
       "    </tr>\n",
       "    <tr>\n",
       "      <th>99194</th>\n",
       "      <td>archive\\train\\V\\V995.png</td>\n",
       "      <td>V</td>\n",
       "    </tr>\n",
       "    <tr>\n",
       "      <th>99195</th>\n",
       "      <td>archive\\train\\V\\V996.png</td>\n",
       "      <td>V</td>\n",
       "    </tr>\n",
       "    <tr>\n",
       "      <th>99196</th>\n",
       "      <td>archive\\train\\V\\V997.png</td>\n",
       "      <td>V</td>\n",
       "    </tr>\n",
       "    <tr>\n",
       "      <th>99197</th>\n",
       "      <td>archive\\train\\V\\V998.png</td>\n",
       "      <td>V</td>\n",
       "    </tr>\n",
       "    <tr>\n",
       "      <th>99198</th>\n",
       "      <td>archive\\train\\V\\V999.png</td>\n",
       "      <td>V</td>\n",
       "    </tr>\n",
       "  </tbody>\n",
       "</table>\n",
       "<p>99199 rows × 2 columns</p>\n",
       "</div>"
      ],
      "text/plain": [
       "                       Filepath Label\n",
       "0        archive\\train\\F\\F1.png     F\n",
       "1       archive\\train\\F\\F10.png     F\n",
       "2      archive\\train\\F\\F100.png     F\n",
       "3      archive\\train\\F\\F101.png     F\n",
       "4      archive\\train\\F\\F102.png     F\n",
       "...                         ...   ...\n",
       "99194  archive\\train\\V\\V995.png     V\n",
       "99195  archive\\train\\V\\V996.png     V\n",
       "99196  archive\\train\\V\\V997.png     V\n",
       "99197  archive\\train\\V\\V998.png     V\n",
       "99198  archive\\train\\V\\V999.png     V\n",
       "\n",
       "[99199 rows x 2 columns]"
      ]
     },
     "execution_count": 2,
     "metadata": {},
     "output_type": "execute_result"
    }
   ],
   "source": [
    "dir = Path('archive/train')\n",
    "filepaths = list(dir.glob('**/*.png'))\n",
    "\n",
    "labels = list(map(lambda x: os.path.split(os.path.split(x)[0])[1], filepaths))\n",
    "\n",
    "filepaths = pd.Series(filepaths, name='Filepath', dtype=str)\n",
    "labels = pd.Series(labels, name='Label', dtype=str)\n",
    "\n",
    "dataframe = pd.concat([filepaths , labels] , axis=1)\n",
    "dataframe"
   ]
  },
  {
   "cell_type": "code",
   "execution_count": 3,
   "metadata": {},
   "outputs": [
    {
     "data": {
      "text/plain": [
       "N    75709\n",
       "M     8405\n",
       "Q     6431\n",
       "V     5789\n",
       "S     2223\n",
       "F      642\n",
       "Name: Label, dtype: int64"
      ]
     },
     "execution_count": 3,
     "metadata": {},
     "output_type": "execute_result"
    }
   ],
   "source": [
    "dataframe['Label'].value_counts()"
   ]
  },
  {
   "cell_type": "markdown",
   "metadata": {},
   "source": [
    "### 2. Data Balancing"
   ]
  },
  {
   "cell_type": "code",
   "execution_count": 4,
   "metadata": {},
   "outputs": [
    {
     "data": {
      "text/plain": [
       "N    640\n",
       "Q    640\n",
       "S    640\n",
       "F    640\n",
       "M    640\n",
       "V    640\n",
       "Name: Label, dtype: int64"
      ]
     },
     "execution_count": 4,
     "metadata": {},
     "output_type": "execute_result"
    }
   ],
   "source": [
    "samples = []\n",
    "\n",
    "for category in ['N', 'M', 'Q', 'V', 'S', 'F']:\n",
    "    category_slice = dataframe.query('Label == @category')\n",
    "    samples.append(category_slice.sample(640, random_state=1))\n",
    "    \n",
    "dataframe_train = pd.concat(samples, axis=0)\n",
    "dataframe_train = dataframe_train.sample(frac=1.0, random_state=1).reset_index(drop=True)\n",
    "dataframe_train['Label'].value_counts()"
   ]
  },
  {
   "cell_type": "code",
   "execution_count": 5,
   "metadata": {},
   "outputs": [
    {
     "data": {
      "text/html": [
       "<div>\n",
       "<style scoped>\n",
       "    .dataframe tbody tr th:only-of-type {\n",
       "        vertical-align: middle;\n",
       "    }\n",
       "\n",
       "    .dataframe tbody tr th {\n",
       "        vertical-align: top;\n",
       "    }\n",
       "\n",
       "    .dataframe thead th {\n",
       "        text-align: right;\n",
       "    }\n",
       "</style>\n",
       "<table border=\"1\" class=\"dataframe\">\n",
       "  <thead>\n",
       "    <tr style=\"text-align: right;\">\n",
       "      <th></th>\n",
       "      <th>Filepath</th>\n",
       "      <th>Label</th>\n",
       "    </tr>\n",
       "  </thead>\n",
       "  <tbody>\n",
       "    <tr>\n",
       "      <th>0</th>\n",
       "      <td>archive\\train\\N\\N80645.png</td>\n",
       "      <td>N</td>\n",
       "    </tr>\n",
       "    <tr>\n",
       "      <th>1</th>\n",
       "      <td>archive\\train\\Q\\Q644.png</td>\n",
       "      <td>Q</td>\n",
       "    </tr>\n",
       "    <tr>\n",
       "      <th>2</th>\n",
       "      <td>archive\\train\\S\\S2383.png</td>\n",
       "      <td>S</td>\n",
       "    </tr>\n",
       "    <tr>\n",
       "      <th>3</th>\n",
       "      <td>archive\\train\\S\\S2269.png</td>\n",
       "      <td>S</td>\n",
       "    </tr>\n",
       "    <tr>\n",
       "      <th>4</th>\n",
       "      <td>archive\\train\\F\\F138.png</td>\n",
       "      <td>F</td>\n",
       "    </tr>\n",
       "    <tr>\n",
       "      <th>...</th>\n",
       "      <td>...</td>\n",
       "      <td>...</td>\n",
       "    </tr>\n",
       "    <tr>\n",
       "      <th>3835</th>\n",
       "      <td>archive\\train\\S\\S1594.png</td>\n",
       "      <td>S</td>\n",
       "    </tr>\n",
       "    <tr>\n",
       "      <th>3836</th>\n",
       "      <td>archive\\train\\M\\M5641.png</td>\n",
       "      <td>M</td>\n",
       "    </tr>\n",
       "    <tr>\n",
       "      <th>3837</th>\n",
       "      <td>archive\\train\\M\\M8804.png</td>\n",
       "      <td>M</td>\n",
       "    </tr>\n",
       "    <tr>\n",
       "      <th>3838</th>\n",
       "      <td>archive\\train\\N\\N46498.png</td>\n",
       "      <td>N</td>\n",
       "    </tr>\n",
       "    <tr>\n",
       "      <th>3839</th>\n",
       "      <td>archive\\train\\M\\M7168.png</td>\n",
       "      <td>M</td>\n",
       "    </tr>\n",
       "  </tbody>\n",
       "</table>\n",
       "<p>3840 rows × 2 columns</p>\n",
       "</div>"
      ],
      "text/plain": [
       "                        Filepath Label\n",
       "0     archive\\train\\N\\N80645.png     N\n",
       "1       archive\\train\\Q\\Q644.png     Q\n",
       "2      archive\\train\\S\\S2383.png     S\n",
       "3      archive\\train\\S\\S2269.png     S\n",
       "4       archive\\train\\F\\F138.png     F\n",
       "...                          ...   ...\n",
       "3835   archive\\train\\S\\S1594.png     S\n",
       "3836   archive\\train\\M\\M5641.png     M\n",
       "3837   archive\\train\\M\\M8804.png     M\n",
       "3838  archive\\train\\N\\N46498.png     N\n",
       "3839   archive\\train\\M\\M7168.png     M\n",
       "\n",
       "[3840 rows x 2 columns]"
      ]
     },
     "execution_count": 5,
     "metadata": {},
     "output_type": "execute_result"
    }
   ],
   "source": [
    "dataframe_train"
   ]
  },
  {
   "cell_type": "markdown",
   "metadata": {},
   "source": [
    "### 3. Image Preprocessing and Data Augmentation"
   ]
  },
  {
   "cell_type": "code",
   "execution_count": 6,
   "metadata": {},
   "outputs": [],
   "source": [
    "def gray_torgb(image):\n",
    "    image = cv2.cvtColor(image, cv2.COLOR_BGR2GRAY)\n",
    "    image = cv2.merge((image, image, image))\n",
    "    image = tf.keras.applications.resnet50.preprocess_input(image)\n",
    "    return image"
   ]
  },
  {
   "cell_type": "code",
   "execution_count": 7,
   "metadata": {},
   "outputs": [
    {
     "name": "stdout",
     "output_type": "stream",
     "text": [
      "Total number of images generated: 19200\n",
      "Augmented images saved in the directory: augmented_images\n"
     ]
    }
   ],
   "source": [
    "'''\n",
    "This code is to save the augmented ECG images into directory (Optional to run)\n",
    "'''\n",
    "import numpy as np\n",
    "import os\n",
    "from tensorflow.keras.preprocessing.image import ImageDataGenerator, load_img, img_to_array\n",
    "\n",
    "# Directory defined to save the augmented images\n",
    "save_dir = 'augmented_images'\n",
    "if not os.path.exists(save_dir):\n",
    "    os.makedirs(save_dir)\n",
    "\n",
    "# Initialize the ImageDataGenerator with the desired augmentation parameters\n",
    "train_generator = tf.keras.preprocessing.image.ImageDataGenerator(\n",
    "    preprocessing_function=gray_torgb,\n",
    "    rescale=1./255,\n",
    "    validation_split=0.2,\n",
    "    rotation_range=20,            # Randomly rotate the images within the range of 20 degrees\n",
    "    width_shift_range=0.2,        # Randomly shift the width of the image by 20% of the total width\n",
    "    height_shift_range=0.2,       # Randomly shift the height of the image by 20% of the total height\n",
    "    shear_range=0.2,              # Apply shear transformation with a shear intensity of 0.2\n",
    "    zoom_range=0.2,               # Randomly zoom in or out of the images by 20%\n",
    "    horizontal_flip=True,         # Randomly flip the images horizontally\n",
    "    fill_mode='nearest'           # Fill any newly created pixels after rotation or shifting with the nearest value\n",
    ")\n",
    "\n",
    "# Load the original images\n",
    "original_images = [load_img(file) for file in dataframe_train['Filepath']]\n",
    "\n",
    "# Generate augmented images and save them\n",
    "total_generated = 0\n",
    "for i, img in enumerate(original_images):\n",
    "    # Convert the image to an array\n",
    "    x = img_to_array(img)\n",
    "    x = x.reshape((1,) + x.shape)\n",
    "    \n",
    "    # Generate augmented images\n",
    "    aug_generator = train_generator.flow(x, batch_size=1, save_to_dir=save_dir, save_prefix=f'aug_{i}', save_format='png')\n",
    "    num_augmented_images = 5  # Number of augmented images to generate for each original image\n",
    "    for _ in range(num_augmented_images):\n",
    "        augmented_image = next(aug_generator)\n",
    "        total_generated += 1\n",
    "\n",
    "print('Total number of images generated:', total_generated)\n",
    "print('Augmented images saved in the directory:', save_dir)"
   ]
  },
  {
   "cell_type": "code",
   "execution_count": 8,
   "metadata": {},
   "outputs": [],
   "source": [
    "# # Initialize the ImageDataGenerator with the desired augmentation parameters\n",
    "# train_generator = tf.keras.preprocessing.image.ImageDataGenerator(\n",
    "#     preprocessing_function=gray_torgb,\n",
    "#     rescale=1./255,\n",
    "#     validation_split=0.2,\n",
    "#     rotation_range=20,            # Randomly rotate the images within the range of 20 degrees\n",
    "#     width_shift_range=0.2,        # Randomly shift the width of the image by 20% of the total width\n",
    "#     height_shift_range=0.2,       # Randomly shift the height of the image by 20% of the total height\n",
    "#     shear_range=0.2,              # Apply shear transformation with a shear intensity of 0.2\n",
    "#     zoom_range=0.2,               # Randomly zoom in or out of the images by 20%\n",
    "#     horizontal_flip=True,         # Randomly flip the images horizontally\n",
    "#     fill_mode='nearest'           # Fill any newly created pixels after rotation or shifting with the nearest value\n",
    "# )"
   ]
  },
  {
   "cell_type": "markdown",
   "metadata": {},
   "source": [
    "### 4. Create Model"
   ]
  },
  {
   "cell_type": "code",
   "execution_count": 9,
   "metadata": {},
   "outputs": [
    {
     "name": "stdout",
     "output_type": "stream",
     "text": [
      "Found 3072 validated image filenames belonging to 6 classes.\n",
      "Found 768 validated image filenames belonging to 6 classes.\n"
     ]
    }
   ],
   "source": [
    "size = 224              \n",
    "color_mode = 'rgb'      \n",
    "batch_size = 32        \n",
    "\n",
    "train_images = train_generator.flow_from_dataframe(\n",
    "    dataframe=dataframe_train,       \n",
    "    x_col='Filepath',                \n",
    "    y_col='Label',                   \n",
    "    target_size=(size, size),        \n",
    "    color_mode=color_mode,           \n",
    "    class_mode='categorical',        \n",
    "    batch_size=batch_size,           \n",
    "    shuffle=True,                    \n",
    "    seed=42,                         \n",
    "    subset='training'                \n",
    ")\n",
    "\n",
    "val_images = train_generator.flow_from_dataframe(\n",
    "    dataframe=dataframe_train,       \n",
    "    x_col='Filepath',               \n",
    "    y_col='Label',                   \n",
    "    target_size=(size, size),        \n",
    "    color_mode=color_mode,           \n",
    "    class_mode='categorical',        \n",
    "    batch_size=batch_size,           \n",
    "    shuffle=True,                    \n",
    "    seed=42,                         \n",
    "    subset='validation'              \n",
    ")"
   ]
  },
  {
   "cell_type": "code",
   "execution_count": 10,
   "metadata": {},
   "outputs": [
    {
     "data": {
      "text/plain": [
       "<matplotlib.image.AxesImage at 0x22aaf392f80>"
      ]
     },
     "execution_count": 10,
     "metadata": {},
     "output_type": "execute_result"
    },
    {
     "data": {
      "image/png": "[encoded data removed]",
      "text/plain": [
       "<Figure size 640x480 with 1 Axes>"
      ]
     },
     "metadata": {},
     "output_type": "display_data"
    }
   ],
   "source": [
    "plt.imshow(train_images[0][0][3])"
   ]
  },
  {
   "cell_type": "code",
   "execution_count": 11,
   "metadata": {},
   "outputs": [],
   "source": [
    "from tensorflow.keras.applications import ResNet50\n",
    "\n",
    "pretrained_model = ResNet50(\n",
    "    input_shape=(224,224,3),    \n",
    "    include_top= False,         \n",
    "    weights='imagenet', \n",
    "    pooling='avg'\n",
    ")\n",
    "\n",
    "pretrained_model.trainable=False"
   ]
  },
  {
   "cell_type": "code",
   "execution_count": 12,
   "metadata": {},
   "outputs": [
    {
     "name": "stdout",
     "output_type": "stream",
     "text": [
      "Model: \"sequential\"\n",
      "_________________________________________________________________\n",
      " Layer (type)                Output Shape              Param #   \n",
      "=================================================================\n",
      " resnet50 (Functional)       (None, 2048)              23587712  \n",
      "                                                                 \n",
      " flatten (Flatten)           (None, 2048)              0         \n",
      "                                                                 \n",
      " dropout (Dropout)           (None, 2048)              0         \n",
      "                                                                 \n",
      " dense (Dense)               (None, 128)               262272    \n",
      "                                                                 \n",
      " dense_1 (Dense)             (None, 64)                8256      \n",
      "                                                                 \n",
      " dense_2 (Dense)             (None, 6)                 390       \n",
      "                                                                 \n",
      "=================================================================\n",
      "Total params: 23858630 (91.01 MB)\n",
      "Trainable params: 270918 (1.03 MB)\n",
      "Non-trainable params: 23587712 (89.98 MB)\n",
      "_________________________________________________________________\n"
     ]
    }
   ],
   "source": [
    "from tensorflow.keras.layers import *\n",
    "from tensorflow.keras.models import *\n",
    "\n",
    "model = Sequential ([\n",
    "    pretrained_model,\n",
    "    Flatten(),\n",
    "    Dropout(0.2),\n",
    "    Dense(128, activation='relu'),\n",
    "    Dense(64, activation='relu'),\n",
    "    Dense(6, activation='softmax')\n",
    "])\n",
    "\n",
    "model.summary()"
   ]
  },
  {
   "cell_type": "markdown",
   "metadata": {},
   "source": [
    "### 5. Compile and Train the Model"
   ]
  },
  {
   "cell_type": "code",
   "execution_count": 13,
   "metadata": {},
   "outputs": [],
   "source": [
    "model.compile(\n",
    "    loss='categorical_crossentropy', optimizer='adam', \n",
    "    metrics=[\n",
    "        'Accuracy', \n",
    "        'Precision', \n",
    "        'Recall',\n",
    "         tf.keras.metrics.AUC(\n",
    "             num_thresholds=200,\n",
    "             curve='ROC',\n",
    "             summation_method='interpolation',\n",
    "             multi_label=False\n",
    "         )\n",
    "    ]\n",
    ")"
   ]
  },
  {
   "cell_type": "code",
   "execution_count": 14,
   "metadata": {},
   "outputs": [
    {
     "name": "stdout",
     "output_type": "stream",
     "text": [
      "Epoch 1/10\n",
      "96/96 [==============================] - 531s 6s/step - loss: 1.3998 - Accuracy: 0.3880 - precision: 0.6837 - recall: 0.1048 - auc: 0.7872 - val_loss: 1.0265 - val_Accuracy: 0.5052 - val_precision: 0.7500 - val_recall: 0.1875 - val_auc: 0.9044\n",
      "Epoch 2/10\n",
      "96/96 [==============================] - 624s 7s/step - loss: 0.9643 - Accuracy: 0.5625 - precision: 0.6893 - recall: 0.2975 - auc: 0.9049 - val_loss: 0.7657 - val_Accuracy: 0.6979 - val_precision: 0.7775 - val_recall: 0.4232 - val_auc: 0.9467\n",
      "Epoch 3/10\n",
      "96/96 [==============================] - 633s 7s/step - loss: 0.8316 - Accuracy: 0.6260 - precision: 0.6870 - recall: 0.4694 - auc: 0.9263 - val_loss: 0.7465 - val_Accuracy: 0.6667 - val_precision: 0.7342 - val_recall: 0.4674 - val_auc: 0.9418\n",
      "Epoch 4/10\n",
      "96/96 [==============================] - 373s 4s/step - loss: 0.7774 - Accuracy: 0.6458 - precision: 0.7074 - recall: 0.5163 - auc: 0.9344 - val_loss: 0.6951 - val_Accuracy: 0.7005 - val_precision: 0.7787 - val_recall: 0.5911 - val_auc: 0.9521\n",
      "Epoch 5/10\n",
      "96/96 [==============================] - 1313s 14s/step - loss: 0.7197 - Accuracy: 0.6663 - precision: 0.7093 - recall: 0.5719 - auc: 0.9417 - val_loss: 0.6067 - val_Accuracy: 0.7279 - val_precision: 0.7734 - val_recall: 0.6576 - val_auc: 0.9622\n",
      "Epoch 6/10\n",
      "96/96 [==============================] - 151s 2s/step - loss: 0.6865 - Accuracy: 0.6940 - precision: 0.7370 - recall: 0.6204 - auc: 0.9485 - val_loss: 0.5934 - val_Accuracy: 0.7604 - val_precision: 0.7929 - val_recall: 0.6979 - val_auc: 0.9665\n",
      "Epoch 7/10\n",
      "96/96 [==============================] - 226s 2s/step - loss: 0.6253 - Accuracy: 0.7119 - precision: 0.7515 - recall: 0.6585 - auc: 0.9572 - val_loss: 0.5480 - val_Accuracy: 0.7474 - val_precision: 0.7804 - val_recall: 0.7266 - val_auc: 0.9684\n",
      "Epoch 8/10\n",
      "96/96 [==============================] - 634s 7s/step - loss: 0.6432 - Accuracy: 0.6989 - precision: 0.7288 - recall: 0.6465 - auc: 0.9529 - val_loss: 0.6812 - val_Accuracy: 0.6471 - val_precision: 0.6648 - val_recall: 0.6042 - val_auc: 0.9399\n",
      "Epoch 9/10\n",
      "96/96 [==============================] - 231s 2s/step - loss: 0.6126 - Accuracy: 0.7214 - precision: 0.7468 - recall: 0.6751 - auc: 0.9571 - val_loss: 0.6762 - val_Accuracy: 0.6849 - val_precision: 0.7033 - val_recall: 0.6328 - val_auc: 0.9472\n",
      "Epoch 10/10\n",
      "96/96 [==============================] - 218s 2s/step - loss: 0.5738 - Accuracy: 0.7370 - precision: 0.7626 - recall: 0.6921 - auc: 0.9629 - val_loss: 0.4951 - val_Accuracy: 0.7826 - val_precision: 0.8079 - val_recall: 0.7500 - val_auc: 0.9728\n"
     ]
    }
   ],
   "source": [
    "import tensorflow as tf\n",
    "\n",
    "result = model.fit(\n",
    "    train_images,\n",
    "    steps_per_epoch=3072//32,\n",
    "    validation_data=val_images,\n",
    "    validation_steps=768//32,\n",
    "    epochs=10\n",
    ")"
   ]
  },
  {
   "cell_type": "code",
   "execution_count": 15,
   "metadata": {},
   "outputs": [
    {
     "name": "stderr",
     "output_type": "stream",
     "text": [
      "c:\\Users\\Xuanting\\anaconda3\\envs\\pyspark\\lib\\site-packages\\keras\\src\\engine\\training.py:3000: UserWarning: You are saving your model as an HDF5 file via `model.save()`. This file format is considered legacy. We recommend using instead the native Keras format, e.g. `model.save('my_model.keras')`.\n",
      "  saving_api.save_model(\n"
     ]
    }
   ],
   "source": [
    "model.save('ECG_Model_Augmentation.h5')"
   ]
  }
 ],
 "metadata": {
  "kernelspec": {
   "display_name": "pyspark",
   "language": "python",
   "name": "python3"
  },
  "language_info": {
   "codemirror_mode": {
    "name": "ipython",
    "version": 3
   },
   "file_extension": ".py",
   "mimetype": "text/x-python",
   "name": "python",
   "nbconvert_exporter": "python",
   "pygments_lexer": "ipython3",
   "version": "3.10.12"
  },
  "orig_nbformat": 4
 },
 "nbformat": 4,
 "nbformat_minor": 2
}
