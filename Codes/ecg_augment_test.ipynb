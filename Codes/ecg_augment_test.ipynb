{
 "cells": [
  {
   "cell_type": "markdown",
   "metadata": {},
   "source": [
    "### 1. Data Preprocessing"
   ]
  },
  {
   "cell_type": "code",
   "execution_count": 1,
   "metadata": {},
   "outputs": [],
   "source": [
    "# Import libraries\n",
    "import numpy as np\n",
    "import pandas as pd\n",
    "from pathlib import Path\n",
    "import os.path\n",
    "import matplotlib.pyplot as plt\n",
    "import tensorflow as tf\n",
    "import cv2"
   ]
  },
  {
   "cell_type": "code",
   "execution_count": 2,
   "metadata": {},
   "outputs": [
    {
     "data": {
      "text/html": [
       "<div>\n",
       "<style scoped>\n",
       "    .dataframe tbody tr th:only-of-type {\n",
       "        vertical-align: middle;\n",
       "    }\n",
       "\n",
       "    .dataframe tbody tr th {\n",
       "        vertical-align: top;\n",
       "    }\n",
       "\n",
       "    .dataframe thead th {\n",
       "        text-align: right;\n",
       "    }\n",
       "</style>\n",
       "<table border=\"1\" class=\"dataframe\">\n",
       "  <thead>\n",
       "    <tr style=\"text-align: right;\">\n",
       "      <th></th>\n",
       "      <th>Filepath</th>\n",
       "      <th>Label</th>\n",
       "    </tr>\n",
       "  </thead>\n",
       "  <tbody>\n",
       "    <tr>\n",
       "      <th>0</th>\n",
       "      <td>archive\\test\\F\\F0.png</td>\n",
       "      <td>F</td>\n",
       "    </tr>\n",
       "    <tr>\n",
       "      <th>1</th>\n",
       "      <td>archive\\test\\F\\F104.png</td>\n",
       "      <td>F</td>\n",
       "    </tr>\n",
       "    <tr>\n",
       "      <th>2</th>\n",
       "      <td>archive\\test\\F\\F113.png</td>\n",
       "      <td>F</td>\n",
       "    </tr>\n",
       "    <tr>\n",
       "      <th>3</th>\n",
       "      <td>archive\\test\\F\\F115.png</td>\n",
       "      <td>F</td>\n",
       "    </tr>\n",
       "    <tr>\n",
       "      <th>4</th>\n",
       "      <td>archive\\test\\F\\F118.png</td>\n",
       "      <td>F</td>\n",
       "    </tr>\n",
       "    <tr>\n",
       "      <th>...</th>\n",
       "      <td>...</td>\n",
       "      <td>...</td>\n",
       "    </tr>\n",
       "    <tr>\n",
       "      <th>24794</th>\n",
       "      <td>archive\\test\\V\\V98.png</td>\n",
       "      <td>V</td>\n",
       "    </tr>\n",
       "    <tr>\n",
       "      <th>24795</th>\n",
       "      <td>archive\\test\\V\\V981.png</td>\n",
       "      <td>V</td>\n",
       "    </tr>\n",
       "    <tr>\n",
       "      <th>24796</th>\n",
       "      <td>archive\\test\\V\\V986.png</td>\n",
       "      <td>V</td>\n",
       "    </tr>\n",
       "    <tr>\n",
       "      <th>24797</th>\n",
       "      <td>archive\\test\\V\\V987.png</td>\n",
       "      <td>V</td>\n",
       "    </tr>\n",
       "    <tr>\n",
       "      <th>24798</th>\n",
       "      <td>archive\\test\\V\\V991.png</td>\n",
       "      <td>V</td>\n",
       "    </tr>\n",
       "  </tbody>\n",
       "</table>\n",
       "<p>24799 rows × 2 columns</p>\n",
       "</div>"
      ],
      "text/plain": [
       "                      Filepath Label\n",
       "0        archive\\test\\F\\F0.png     F\n",
       "1      archive\\test\\F\\F104.png     F\n",
       "2      archive\\test\\F\\F113.png     F\n",
       "3      archive\\test\\F\\F115.png     F\n",
       "4      archive\\test\\F\\F118.png     F\n",
       "...                        ...   ...\n",
       "24794   archive\\test\\V\\V98.png     V\n",
       "24795  archive\\test\\V\\V981.png     V\n",
       "24796  archive\\test\\V\\V986.png     V\n",
       "24797  archive\\test\\V\\V987.png     V\n",
       "24798  archive\\test\\V\\V991.png     V\n",
       "\n",
       "[24799 rows x 2 columns]"
      ]
     },
     "execution_count": 2,
     "metadata": {},
     "output_type": "execute_result"
    }
   ],
   "source": [
    "dir = Path('archive/test')\n",
    "filepaths = list(dir.glob('**/*.png'))\n",
    "\n",
    "labels = list(map(lambda x: os.path.split(os.path.split(x)[0])[1], filepaths))\n",
    "\n",
    "filepaths = pd.Series(filepaths, name='Filepath', dtype=str)\n",
    "labels = pd.Series(labels, name='Label', dtype=str)\n",
    "\n",
    "dataframe_test = pd.concat([filepaths , labels] , axis=1)\n",
    "dataframe_test"
   ]
  },
  {
   "cell_type": "code",
   "execution_count": 3,
   "metadata": {},
   "outputs": [
    {
     "data": {
      "text/plain": [
       "N    18926\n",
       "M     2101\n",
       "Q     1608\n",
       "V     1447\n",
       "S      556\n",
       "F      161\n",
       "Name: Label, dtype: int64"
      ]
     },
     "execution_count": 3,
     "metadata": {},
     "output_type": "execute_result"
    }
   ],
   "source": [
    "dataframe_test['Label'].value_counts()"
   ]
  },
  {
   "cell_type": "markdown",
   "metadata": {},
   "source": [
    "### 2. Data Balancing"
   ]
  },
  {
   "cell_type": "code",
   "execution_count": 4,
   "metadata": {},
   "outputs": [
    {
     "data": {
      "text/plain": [
       "M    160\n",
       "F    160\n",
       "Q    160\n",
       "N    160\n",
       "V    160\n",
       "S    160\n",
       "Name: Label, dtype: int64"
      ]
     },
     "execution_count": 4,
     "metadata": {},
     "output_type": "execute_result"
    }
   ],
   "source": [
    "samples = []\n",
    "for category in ['N','M','Q','V','S','F']:\n",
    "    category_slice = dataframe_test.query('Label == @category')\n",
    "    samples.append(category_slice.sample(160, random_state=1))\n",
    "\n",
    "dataframe_test = pd.concat(samples, axis=0).sample(frac=1.0, random_state=1).reset_index(drop=True)\n",
    "dataframe_test['Label'].value_counts()"
   ]
  },
  {
   "cell_type": "code",
   "execution_count": 5,
   "metadata": {},
   "outputs": [
    {
     "data": {
      "text/html": [
       "<div>\n",
       "<style scoped>\n",
       "    .dataframe tbody tr th:only-of-type {\n",
       "        vertical-align: middle;\n",
       "    }\n",
       "\n",
       "    .dataframe tbody tr th {\n",
       "        vertical-align: top;\n",
       "    }\n",
       "\n",
       "    .dataframe thead th {\n",
       "        text-align: right;\n",
       "    }\n",
       "</style>\n",
       "<table border=\"1\" class=\"dataframe\">\n",
       "  <thead>\n",
       "    <tr style=\"text-align: right;\">\n",
       "      <th></th>\n",
       "      <th>Filepath</th>\n",
       "      <th>Label</th>\n",
       "    </tr>\n",
       "  </thead>\n",
       "  <tbody>\n",
       "    <tr>\n",
       "      <th>0</th>\n",
       "      <td>archive\\test\\M\\M933.png</td>\n",
       "      <td>M</td>\n",
       "    </tr>\n",
       "    <tr>\n",
       "      <th>1</th>\n",
       "      <td>archive\\test\\F\\F377.png</td>\n",
       "      <td>F</td>\n",
       "    </tr>\n",
       "    <tr>\n",
       "      <th>2</th>\n",
       "      <td>archive\\test\\Q\\Q6746.png</td>\n",
       "      <td>Q</td>\n",
       "    </tr>\n",
       "    <tr>\n",
       "      <th>3</th>\n",
       "      <td>archive\\test\\Q\\Q883.png</td>\n",
       "      <td>Q</td>\n",
       "    </tr>\n",
       "    <tr>\n",
       "      <th>4</th>\n",
       "      <td>archive\\test\\Q\\Q6569.png</td>\n",
       "      <td>Q</td>\n",
       "    </tr>\n",
       "    <tr>\n",
       "      <th>...</th>\n",
       "      <td>...</td>\n",
       "      <td>...</td>\n",
       "    </tr>\n",
       "    <tr>\n",
       "      <th>955</th>\n",
       "      <td>archive\\test\\S\\S1979.png</td>\n",
       "      <td>S</td>\n",
       "    </tr>\n",
       "    <tr>\n",
       "      <th>956</th>\n",
       "      <td>archive\\test\\N\\N26059.png</td>\n",
       "      <td>N</td>\n",
       "    </tr>\n",
       "    <tr>\n",
       "      <th>957</th>\n",
       "      <td>archive\\test\\F\\F418.png</td>\n",
       "      <td>F</td>\n",
       "    </tr>\n",
       "    <tr>\n",
       "      <th>958</th>\n",
       "      <td>archive\\test\\M\\M971.png</td>\n",
       "      <td>M</td>\n",
       "    </tr>\n",
       "    <tr>\n",
       "      <th>959</th>\n",
       "      <td>archive\\test\\N\\N84538.png</td>\n",
       "      <td>N</td>\n",
       "    </tr>\n",
       "  </tbody>\n",
       "</table>\n",
       "<p>960 rows × 2 columns</p>\n",
       "</div>"
      ],
      "text/plain": [
       "                      Filepath Label\n",
       "0      archive\\test\\M\\M933.png     M\n",
       "1      archive\\test\\F\\F377.png     F\n",
       "2     archive\\test\\Q\\Q6746.png     Q\n",
       "3      archive\\test\\Q\\Q883.png     Q\n",
       "4     archive\\test\\Q\\Q6569.png     Q\n",
       "..                         ...   ...\n",
       "955   archive\\test\\S\\S1979.png     S\n",
       "956  archive\\test\\N\\N26059.png     N\n",
       "957    archive\\test\\F\\F418.png     F\n",
       "958    archive\\test\\M\\M971.png     M\n",
       "959  archive\\test\\N\\N84538.png     N\n",
       "\n",
       "[960 rows x 2 columns]"
      ]
     },
     "execution_count": 5,
     "metadata": {},
     "output_type": "execute_result"
    }
   ],
   "source": [
    "dataframe_test"
   ]
  },
  {
   "cell_type": "markdown",
   "metadata": {},
   "source": [
    "### 3. Image Preprocessing and Data Augmentation"
   ]
  },
  {
   "cell_type": "code",
   "execution_count": 6,
   "metadata": {},
   "outputs": [],
   "source": [
    "def gray_torgb(image):\n",
    "    image = cv2.cvtColor(image, cv2.COLOR_BGR2GRAY)    \n",
    "    image = cv2.merge((image, image, image))\n",
    "    image = tf.keras.applications.resnet50.preprocess_input(image)\n",
    "    return image"
   ]
  },
  {
   "cell_type": "code",
   "execution_count": 7,
   "metadata": {},
   "outputs": [],
   "source": [
    "test_generator = tf.keras.preprocessing.image.ImageDataGenerator(\n",
    "    preprocessing_function=gray_torgb,  \n",
    "    rescale=1./255                      \n",
    ")"
   ]
  },
  {
   "cell_type": "code",
   "execution_count": 8,
   "metadata": {},
   "outputs": [
    {
     "name": "stdout",
     "output_type": "stream",
     "text": [
      "Found 960 validated image filenames belonging to 6 classes.\n"
     ]
    }
   ],
   "source": [
    "size = 224\n",
    "color_mode = 'rgb'\n",
    "batch_size = 32\n",
    "\n",
    "test_images = test_generator.flow_from_dataframe(\n",
    "    dataframe=dataframe_test,\n",
    "    x_col='Filepath',\n",
    "    y_col='Label',\n",
    "    target_size=(size, size),\n",
    "    color_mode=color_mode,\n",
    "    class_mode='categorical',\n",
    "    batch_size=batch_size,\n",
    "    shuffle=False\n",
    ")"
   ]
  },
  {
   "cell_type": "code",
   "execution_count": 9,
   "metadata": {},
   "outputs": [
    {
     "data": {
      "text/plain": [
       "{'F': 0, 'M': 1, 'N': 2, 'Q': 3, 'S': 4, 'V': 5}"
      ]
     },
     "execution_count": 9,
     "metadata": {},
     "output_type": "execute_result"
    }
   ],
   "source": [
    "test_images.class_indices"
   ]
  },
  {
   "cell_type": "code",
   "execution_count": 10,
   "metadata": {},
   "outputs": [
    {
     "data": {
      "text/plain": [
       "<matplotlib.image.AxesImage at 0x27582280190>"
      ]
     },
     "execution_count": 10,
     "metadata": {},
     "output_type": "execute_result"
    },
    {
     "data": {
      "image/png": "[encoded data removed]",
      "text/plain": [
       "<Figure size 640x480 with 1 Axes>"
      ]
     },
     "metadata": {},
     "output_type": "display_data"
    }
   ],
   "source": [
    "plt.imshow(test_images[0][0][3])"
   ]
  },
  {
   "cell_type": "markdown",
   "metadata": {},
   "source": [
    "### 4. Model Evaluation"
   ]
  },
  {
   "cell_type": "code",
   "execution_count": 11,
   "metadata": {},
   "outputs": [],
   "source": [
    "from keras.models import load_model\n",
    "\n",
    "def load_model(model_path):\n",
    "    best_model = load_model(model_path)\n",
    "    return best_model"
   ]
  },
  {
   "cell_type": "code",
   "execution_count": 12,
   "metadata": {},
   "outputs": [
    {
     "name": "stdout",
     "output_type": "stream",
     "text": [
      "Test Loss     : 0.5330\n",
      "Test Accuracy : 77.5000%\n",
      "Test Precision: 79.6629%\n",
      "Test Recall   : 73.8542%\n",
      "Test AUC      : 0.9667\n"
     ]
    }
   ],
   "source": [
    "from keras.models import load_model\n",
    "\n",
    "def evaluate_model(model_path, test_images):\n",
    "    best_model = load_model(model_path)\n",
    "    results = best_model.evaluate(test_images, verbose=0)\n",
    "\n",
    "    print('Test Loss     : {:.4f}'.format(results[0]))\n",
    "    print('Test Accuracy : {:.4f}%'.format(results[1] * 100))\n",
    "    print('Test Precision: {:.4f}%'.format(results[2] * 100))\n",
    "    print('Test Recall   : {:.4f}%'.format(results[3] * 100))\n",
    "    print('Test AUC      : {:.4f}'.format(results[4]))\n",
    "\n",
    "evaluate_model('ECG_Model_Augmentation.h5', test_images)"
   ]
  },
  {
   "cell_type": "markdown",
   "metadata": {},
   "source": [
    "### 5. Predictions"
   ]
  },
  {
   "cell_type": "code",
   "execution_count": 13,
   "metadata": {},
   "outputs": [
    {
     "name": "stdout",
     "output_type": "stream",
     "text": [
      "30/30 [==============================] - 33s 1s/step\n"
     ]
    },
    {
     "data": {
      "text/plain": [
       "array([[3.1194641e-06, 9.8810029e-01, 1.3780105e-21, 2.0849619e-14,\n",
       "        1.1895791e-02, 7.8818562e-07],\n",
       "       [5.8052129e-01, 5.7407217e-03, 3.3657397e-08, 2.7775264e-04,\n",
       "        5.6110412e-02, 3.5734978e-01],\n",
       "       [1.2246840e-01, 7.7505356e-06, 2.0326050e-02, 7.3667419e-01,\n",
       "        4.0896941e-04, 1.2011457e-01],\n",
       "       ...,\n",
       "       [5.8295131e-01, 3.3842188e-03, 1.4312084e-07, 5.7213742e-04,\n",
       "        3.6176208e-02, 3.7691596e-01],\n",
       "       [8.4652947e-06, 9.7773266e-01, 1.3301980e-21, 4.9824721e-14,\n",
       "        2.2256603e-02, 2.2731488e-06],\n",
       "       [7.5879878e-05, 2.3545346e-09, 9.4908220e-01, 5.0800756e-02,\n",
       "        1.4259678e-07, 4.1022406e-05]], dtype=float32)"
      ]
     },
     "execution_count": 13,
     "metadata": {},
     "output_type": "execute_result"
    }
   ],
   "source": [
    "best_model = load_model('ECG_Model_Augmentation.h5')\n",
    "y_pred = best_model.predict(test_images)\n",
    "y_pred"
   ]
  },
  {
   "cell_type": "code",
   "execution_count": 14,
   "metadata": {},
   "outputs": [
    {
     "data": {
      "text/plain": [
       "array([1, 0, 3, 3, 3, 1, 5, 1, 2, 2, 4, 3, 1, 2, 4, 4, 2, 1, 5, 2, 1, 3,\n",
       "       4, 2, 1, 1, 1, 3, 2, 5, 3, 1, 2, 3, 2, 3, 1, 0, 1, 5, 0, 5, 1, 3,\n",
       "       1, 1, 1, 1, 1, 0, 2, 2, 0, 3, 2, 0, 5, 0, 1, 0, 3, 0, 2, 5, 3, 0,\n",
       "       0, 3, 1, 0, 1, 0, 0, 0, 5, 3, 0, 2, 0, 2, 0, 0, 1, 3, 2, 4, 2, 4,\n",
       "       5, 5, 1, 0, 0, 1, 1, 2, 1, 1, 1, 2, 5, 2, 4, 5, 1, 4, 1, 0, 1, 1,\n",
       "       2, 1, 1, 5, 2, 2, 2, 3, 3, 3, 0, 2, 1, 0, 1, 3, 1, 1, 1, 5, 1, 0,\n",
       "       2, 4, 2, 0, 3, 3, 2, 0, 1, 2, 1, 3, 0, 0, 1, 3, 2, 1, 0, 3, 4, 1,\n",
       "       1, 2, 1, 3, 0, 3, 3, 0, 5, 3, 1, 1, 1, 0, 3, 0, 5, 1, 1, 1, 0, 0,\n",
       "       2, 0, 0, 2, 0, 0, 1, 3, 1, 1, 1, 1, 1, 2, 1, 4, 3, 1, 1, 1, 0, 0,\n",
       "       5, 1, 4, 0, 0, 0, 1, 2, 0, 2, 1, 0, 0, 3, 0, 1, 2, 1, 1, 0, 5, 0,\n",
       "       0, 0, 3, 2, 1, 2, 0, 0, 2, 1, 1, 2, 4, 0, 5, 2, 4, 0, 4, 1, 3, 2,\n",
       "       1, 1, 0, 4, 0, 3, 2, 3, 2, 1, 2, 3, 4, 1, 3, 3, 0, 0, 4, 0, 2, 1,\n",
       "       5, 1, 3, 2, 5, 5, 1, 0, 2, 4, 0, 2, 0, 1, 4, 0, 1, 1, 0, 0, 2, 3,\n",
       "       3, 2, 0, 0, 1, 3, 1, 2, 1, 0, 1, 0, 0, 2, 3, 2, 0, 1, 5, 1, 4, 1,\n",
       "       1, 1, 1, 1, 1, 1, 5, 0, 5, 0, 5, 1, 5, 1, 1, 2, 2, 0, 2, 0, 3, 2,\n",
       "       0, 5, 2, 1, 1, 0, 0, 2, 2, 1, 0, 2, 0, 0, 2, 4, 2, 3, 0, 0, 0, 0,\n",
       "       3, 0, 5, 2, 2, 3, 1, 1, 2, 1, 1, 5, 2, 1, 0, 2, 3, 3, 1, 0, 4, 2,\n",
       "       1, 3, 1, 0, 2, 1, 1, 1, 3, 1, 0, 1, 5, 1, 0, 5, 1, 1, 2, 3, 0, 0,\n",
       "       1, 3, 0, 5, 2, 0, 1, 2, 0, 5, 3, 1, 3, 2, 2, 1, 4, 1, 1, 1, 2, 0,\n",
       "       1, 1, 0, 3, 2, 3, 1, 2, 2, 4, 5, 2, 4, 2, 1, 0, 0, 1, 4, 3, 2, 3,\n",
       "       0, 0, 3, 1, 1, 2, 1, 3, 3, 1, 1, 3, 2, 1, 0, 2, 1, 1, 2, 5, 3, 3,\n",
       "       1, 1, 0, 2, 1, 1, 3, 1, 5, 1, 5, 2, 5, 3, 2, 3, 0, 3, 0, 5, 1, 2,\n",
       "       2, 2, 2, 2, 5, 3, 1, 3, 3, 1, 1, 2, 4, 1, 1, 3, 1, 0, 0, 4, 2, 3,\n",
       "       5, 3, 5, 1, 5, 0, 3, 1, 3, 0, 1, 3, 2, 3, 5, 3, 1, 2, 1, 5, 5, 0,\n",
       "       1, 0, 1, 0, 1, 0, 3, 1, 0, 5, 3, 0, 1, 0, 2, 2, 3, 1, 3, 0, 4, 5,\n",
       "       4, 0, 1, 5, 3, 1, 3, 2, 0, 0, 0, 5, 1, 3, 5, 1, 0, 1, 2, 1, 1, 0,\n",
       "       3, 5, 3, 1, 0, 2, 1, 3, 2, 1, 2, 2, 0, 2, 2, 2, 3, 3, 3, 0, 3, 0,\n",
       "       1, 0, 1, 3, 0, 1, 0, 0, 0, 2, 1, 1, 2, 5, 0, 0, 0, 4, 2, 0, 2, 5,\n",
       "       5, 5, 1, 0, 3, 1, 3, 1, 1, 0, 3, 0, 3, 1, 3, 5, 0, 3, 1, 2, 0, 0,\n",
       "       1, 1, 3, 2, 5, 0, 0, 0, 1, 3, 2, 3, 1, 4, 1, 3, 1, 2, 2, 2, 0, 1,\n",
       "       0, 3, 1, 1, 5, 1, 4, 1, 1, 0, 3, 3, 1, 0, 3, 1, 1, 2, 1, 5, 1, 3,\n",
       "       1, 1, 0, 0, 0, 2, 0, 1, 0, 0, 1, 1, 2, 1, 3, 0, 2, 3, 0, 0, 1, 1,\n",
       "       0, 3, 1, 1, 2, 2, 2, 1, 0, 1, 5, 0, 5, 5, 2, 0, 2, 2, 3, 1, 2, 1,\n",
       "       1, 2, 0, 0, 0, 2, 0, 0, 1, 0, 3, 5, 2, 3, 3, 0, 3, 3, 4, 1, 4, 0,\n",
       "       3, 3, 0, 1, 0, 4, 1, 0, 1, 2, 3, 3, 1, 3, 2, 5, 1, 1, 1, 4, 1, 0,\n",
       "       0, 0, 0, 1, 1, 3, 4, 5, 1, 1, 0, 0, 1, 4, 4, 5, 1, 0, 2, 1, 3, 0,\n",
       "       0, 1, 3, 1, 1, 3, 0, 1, 1, 0, 1, 5, 2, 3, 5, 0, 5, 0, 1, 2, 3, 1,\n",
       "       3, 1, 2, 0, 2, 1, 2, 1, 0, 1, 5, 0, 4, 0, 0, 0, 0, 3, 2, 1, 2, 1,\n",
       "       0, 2, 0, 5, 0, 3, 5, 1, 3, 1, 4, 0, 3, 3, 1, 2, 0, 1, 1, 5, 3, 1,\n",
       "       1, 2, 1, 4, 0, 4, 3, 1, 1, 1, 4, 0, 2, 3, 3, 1, 2, 1, 1, 2, 5, 1,\n",
       "       1, 3, 1, 3, 2, 1, 2, 2, 3, 1, 0, 5, 3, 0, 2, 5, 2, 5, 1, 0, 0, 5,\n",
       "       3, 3, 2, 5, 3, 0, 3, 0, 1, 1, 1, 1, 1, 0, 4, 1, 5, 0, 1, 2, 3, 2,\n",
       "       2, 0, 3, 0, 1, 1, 0, 5, 3, 0, 1, 0, 1, 0, 3, 0, 3, 4, 1, 1, 1, 3,\n",
       "       0, 4, 5, 2, 2, 0, 1, 1, 0, 4, 2, 0, 1, 2], dtype=int64)"
      ]
     },
     "execution_count": 14,
     "metadata": {},
     "output_type": "execute_result"
    }
   ],
   "source": [
    "y_pred = np.argmax(y_pred, axis=1)\n",
    "y_pred"
   ]
  },
  {
   "cell_type": "markdown",
   "metadata": {},
   "source": [
    "### 6. Confusion Matrix and Classification Report"
   ]
  },
  {
   "cell_type": "code",
   "execution_count": 15,
   "metadata": {},
   "outputs": [
    {
     "name": "stdout",
     "output_type": "stream",
     "text": [
      "Confusion Matrix:\n",
      "[[155   0   0   0   0   5]\n",
      " [  0 159   0   0   1   0]\n",
      " [  0   0 160   0   0   0]\n",
      " [  0   0   4 156   0   0]\n",
      " [  1 124   0   0  35   0]\n",
      " [ 67   0   0   0  14  79]]\n",
      "\n",
      "Classification Report:\n",
      "              precision    recall  f1-score   support\n",
      "\n",
      "           F     0.6951    0.9688    0.8094       160\n",
      "           M     0.5618    0.9938    0.7178       160\n",
      "           N     0.9756    1.0000    0.9877       160\n",
      "           Q     1.0000    0.9750    0.9873       160\n",
      "           S     0.7000    0.2188    0.3333       160\n",
      "           V     0.9405    0.4938    0.6475       160\n",
      "\n",
      "    accuracy                         0.7750       960\n",
      "   macro avg     0.8122    0.7750    0.7472       960\n",
      "weighted avg     0.8122    0.7750    0.7472       960\n",
      "\n",
      "Report saved as classification_report_augmentation.csv\n"
     ]
    }
   ],
   "source": [
    "import pandas as pd\n",
    "from sklearn.metrics import confusion_matrix, classification_report\n",
    "\n",
    "def generate_report_and_save_csv(test_labels, predictions, target_names, report_path, digits=4):\n",
    "    cm = confusion_matrix(test_labels, predictions)\n",
    "    print('Confusion Matrix:')\n",
    "    print(cm)\n",
    "\n",
    "    report = classification_report(test_labels, predictions, target_names=target_names, digits=digits)\n",
    "    print('\\nClassification Report:')\n",
    "    print(report)\n",
    "\n",
    "    report_df = report_to_df(report)\n",
    "\n",
    "    report_df.to_csv(report_path, index=True)\n",
    "    print(f'Report saved as {report_path}')\n",
    "\n",
    "def report_to_df(report):\n",
    "    report = [x.split(' ') for x in report.split('\\n')]\n",
    "    header = ['Class Name'] + [x for x in report[0] if x != '']\n",
    "    values = []\n",
    "    for row in report[1:-5]:\n",
    "        row = [value for value in row if value != '']\n",
    "        if row:\n",
    "            values.append(row)\n",
    "    df = pd.DataFrame(data=values, columns=header)\n",
    "    return df\n",
    "\n",
    "\n",
    "generate_report_and_save_csv(\n",
    "    test_images.labels, y_pred, target_names=['F', 'M', 'N', 'Q', 'S', 'V'], report_path='classification_report_augmentation.csv', digits=4\n",
    ")"
   ]
  },
  {
   "cell_type": "markdown",
   "metadata": {},
   "source": [
    "### 7. Confusion Matrix Plotting"
   ]
  },
  {
   "cell_type": "code",
   "execution_count": 16,
   "metadata": {},
   "outputs": [
    {
     "name": "stdout",
     "output_type": "stream",
     "text": [
      "Confusion Matrix, without normalization (augmentation)\n"
     ]
    },
    {
     "data": {
      "image/png": "[encoded data removed]",
      "text/plain": [
       "<Figure size 800x600 with 2 Axes>"
      ]
     },
     "metadata": {},
     "output_type": "display_data"
    }
   ],
   "source": [
    "import itertools\n",
    "\n",
    "def plot_confusion_matrix(cm, classes, normalize=False, title='Confusion Matrix', cmap=plt.cm.Oranges):\n",
    "    \"\"\"\n",
    "    This function prints and plots the confusion matrix.\n",
    "    Normalization can be applied by setting `normalize=True`.\n",
    "    \"\"\"\n",
    "    if normalize:\n",
    "        cm = cm.astype('float') / cm.sum(axis=1)[:, np.newaxis]\n",
    "        print('Normalized Confusion Matrix (Augmentation)')\n",
    "    else:\n",
    "        print('Confusion Matrix, without normalization (augmentation)')\n",
    "    \n",
    "    plt.figure(figsize=(8, 6))\n",
    "    plt.imshow(cm, interpolation='nearest', cmap=cmap)\n",
    "    plt.title(title)\n",
    "    tick_marks = np.arange(len(classes))\n",
    "    plt.xticks(tick_marks, classes, rotation=45)\n",
    "    plt.yticks(tick_marks, classes)\n",
    "    plt.colorbar()\n",
    "\n",
    "    fmt = '.4f' if normalize else 'd'\n",
    "    thresh = cm.max() / 2.\n",
    "    for i, j in itertools.product(range(cm.shape[0]), range(cm.shape[1])):\n",
    "        plt.text(j, i, format(cm[i, j], fmt),\n",
    "                 horizontalalignment='center',\n",
    "                 color='white' if cm[i, j] > thresh else 'black')\n",
    "\n",
    "    plt.tight_layout()\n",
    "    plt.rcParams['font.size'] = '20'\n",
    "\n",
    "    plt.ylabel('True label')\n",
    "    plt.xlabel('Predicted label')\n",
    "    plt.savefig('confusion_matrix_augmentation' + '.jpg', dpi=500, bbox_inches = 'tight')\n",
    "    \n",
    "\n",
    "cm = confusion_matrix(test_images.labels, y_pred)\n",
    "plot_confusion_matrix(cm, classes=['F', 'M', 'N', 'Q', 'S', 'V'],normalize=False,title='Confusion Matrix (Augmentation)')"
   ]
  },
  {
   "cell_type": "code",
   "execution_count": 18,
   "metadata": {},
   "outputs": [
    {
     "name": "stdout",
     "output_type": "stream",
     "text": [
      "Normalized Confusion Matrix (Augmentation)\n"
     ]
    },
    {
     "data": {
      "image/png": "[encoded data removed]",
      "text/plain": [
       "<Figure size 800x600 with 2 Axes>"
      ]
     },
     "metadata": {},
     "output_type": "display_data"
    }
   ],
   "source": [
    "import itertools\n",
    "\n",
    "def plot_confusion_matrix(cm, classes, normalize=False, title='Confusion Matrix', cmap=plt.cm.Oranges):\n",
    "    \"\"\"\n",
    "    This function prints and plots the confusion matrix.\n",
    "    Normalization can be applied by setting `normalize=True`.\n",
    "    \"\"\"\n",
    "    if normalize:\n",
    "        cm = cm.astype('float') / cm.sum(axis=1)[:, np.newaxis]\n",
    "        print('Normalized Confusion Matrix (Augmentation)')\n",
    "    else:\n",
    "        print('Confusion Matrix, without normalization (augmentation)')\n",
    "    plt.figure(figsize=(8, 6))\n",
    "    plt.imshow(cm, interpolation='nearest', cmap=cmap)\n",
    "    plt.title(title)\n",
    "    tick_marks = np.arange(len(classes))\n",
    "    plt.xticks(tick_marks, classes, rotation=45)\n",
    "    plt.yticks(tick_marks, classes)\n",
    "    plt.colorbar()\n",
    "\n",
    "    fmt = '.4f' if normalize else 'd'\n",
    "    thresh = cm.max() / 2.\n",
    "    for i, j in itertools.product(range(cm.shape[0]), range(cm.shape[1])):\n",
    "        plt.text(j, i, format(cm[i, j], fmt),\n",
    "                 horizontalalignment='center',\n",
    "                 color='white' if cm[i, j] > thresh else 'black')\n",
    "\n",
    "    plt.tight_layout()\n",
    "    plt.rcParams['font.size'] = '7'\n",
    "\n",
    "    plt.ylabel('True label')\n",
    "    plt.xlabel('Predicted label')\n",
    "    plt.savefig('normalized_confusion_matrix_augmentation' + '.jpg', dpi=500, bbox_inches = 'tight')\n",
    "    \n",
    "cm = confusion_matrix(test_images.labels, y_pred)\n",
    "plot_confusion_matrix(cm, classes=['F', 'M', 'N', 'Q', 'S', 'V'],normalize=True,title='Normalized Confusion Matrix (Augmentation)')"
   ]
  }
 ],
 "metadata": {
  "kernelspec": {
   "display_name": "pyspark",
   "language": "python",
   "name": "python3"
  },
  "language_info": {
   "codemirror_mode": {
    "name": "ipython",
    "version": 3
   },
   "file_extension": ".py",
   "mimetype": "text/x-python",
   "name": "python",
   "nbconvert_exporter": "python",
   "pygments_lexer": "ipython3",
   "version": "3.10.12"
  },
  "orig_nbformat": 4
 },
 "nbformat": 4,
 "nbformat_minor": 2
}
