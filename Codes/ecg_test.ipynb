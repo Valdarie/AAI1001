{
 "cells": [
  {
   "cell_type": "markdown",
   "metadata": {},
   "source": [
    "### 1. Data Preprocessing"
   ]
  },
  {
   "cell_type": "code",
   "execution_count": 1,
   "metadata": {},
   "outputs": [],
   "source": [
    "# Import libraries\n",
    "import numpy as np\n",
    "import pandas as pd\n",
    "from pathlib import Path\n",
    "import os.path\n",
    "import matplotlib.pyplot as plt\n",
    "import tensorflow as tf\n",
    "import cv2"
   ]
  },
  {
   "cell_type": "code",
   "execution_count": 2,
   "metadata": {},
   "outputs": [
    {
     "data": {
      "text/html": [
       "<div>\n",
       "<style scoped>\n",
       "    .dataframe tbody tr th:only-of-type {\n",
       "        vertical-align: middle;\n",
       "    }\n",
       "\n",
       "    .dataframe tbody tr th {\n",
       "        vertical-align: top;\n",
       "    }\n",
       "\n",
       "    .dataframe thead th {\n",
       "        text-align: right;\n",
       "    }\n",
       "</style>\n",
       "<table border=\"1\" class=\"dataframe\">\n",
       "  <thead>\n",
       "    <tr style=\"text-align: right;\">\n",
       "      <th></th>\n",
       "      <th>Filepath</th>\n",
       "      <th>Label</th>\n",
       "    </tr>\n",
       "  </thead>\n",
       "  <tbody>\n",
       "    <tr>\n",
       "      <th>0</th>\n",
       "      <td>archive\\test\\F\\F0.png</td>\n",
       "      <td>F</td>\n",
       "    </tr>\n",
       "    <tr>\n",
       "      <th>1</th>\n",
       "      <td>archive\\test\\F\\F104.png</td>\n",
       "      <td>F</td>\n",
       "    </tr>\n",
       "    <tr>\n",
       "      <th>2</th>\n",
       "      <td>archive\\test\\F\\F113.png</td>\n",
       "      <td>F</td>\n",
       "    </tr>\n",
       "    <tr>\n",
       "      <th>3</th>\n",
       "      <td>archive\\test\\F\\F115.png</td>\n",
       "      <td>F</td>\n",
       "    </tr>\n",
       "    <tr>\n",
       "      <th>4</th>\n",
       "      <td>archive\\test\\F\\F118.png</td>\n",
       "      <td>F</td>\n",
       "    </tr>\n",
       "    <tr>\n",
       "      <th>...</th>\n",
       "      <td>...</td>\n",
       "      <td>...</td>\n",
       "    </tr>\n",
       "    <tr>\n",
       "      <th>24794</th>\n",
       "      <td>archive\\test\\V\\V98.png</td>\n",
       "      <td>V</td>\n",
       "    </tr>\n",
       "    <tr>\n",
       "      <th>24795</th>\n",
       "      <td>archive\\test\\V\\V981.png</td>\n",
       "      <td>V</td>\n",
       "    </tr>\n",
       "    <tr>\n",
       "      <th>24796</th>\n",
       "      <td>archive\\test\\V\\V986.png</td>\n",
       "      <td>V</td>\n",
       "    </tr>\n",
       "    <tr>\n",
       "      <th>24797</th>\n",
       "      <td>archive\\test\\V\\V987.png</td>\n",
       "      <td>V</td>\n",
       "    </tr>\n",
       "    <tr>\n",
       "      <th>24798</th>\n",
       "      <td>archive\\test\\V\\V991.png</td>\n",
       "      <td>V</td>\n",
       "    </tr>\n",
       "  </tbody>\n",
       "</table>\n",
       "<p>24799 rows × 2 columns</p>\n",
       "</div>"
      ],
      "text/plain": [
       "                      Filepath Label\n",
       "0        archive\\test\\F\\F0.png     F\n",
       "1      archive\\test\\F\\F104.png     F\n",
       "2      archive\\test\\F\\F113.png     F\n",
       "3      archive\\test\\F\\F115.png     F\n",
       "4      archive\\test\\F\\F118.png     F\n",
       "...                        ...   ...\n",
       "24794   archive\\test\\V\\V98.png     V\n",
       "24795  archive\\test\\V\\V981.png     V\n",
       "24796  archive\\test\\V\\V986.png     V\n",
       "24797  archive\\test\\V\\V987.png     V\n",
       "24798  archive\\test\\V\\V991.png     V\n",
       "\n",
       "[24799 rows x 2 columns]"
      ]
     },
     "execution_count": 2,
     "metadata": {},
     "output_type": "execute_result"
    }
   ],
   "source": [
    "dir = Path('archive/test')\n",
    "filepaths = list(dir.glob('**/*.png'))\n",
    "\n",
    "labels = list(map(lambda x: os.path.split(os.path.split(x)[0])[1], filepaths))\n",
    "\n",
    "filepaths = pd.Series(filepaths, name='Filepath', dtype=str)\n",
    "labels = pd.Series(labels, name='Label', dtype=str)\n",
    "\n",
    "dataframe_test = pd.concat([filepaths , labels] , axis=1)\n",
    "dataframe_test"
   ]
  },
  {
   "cell_type": "code",
   "execution_count": 3,
   "metadata": {},
   "outputs": [
    {
     "data": {
      "text/plain": [
       "N    18926\n",
       "M     2101\n",
       "Q     1608\n",
       "V     1447\n",
       "S      556\n",
       "F      161\n",
       "Name: Label, dtype: int64"
      ]
     },
     "execution_count": 3,
     "metadata": {},
     "output_type": "execute_result"
    }
   ],
   "source": [
    "dataframe_test['Label'].value_counts()"
   ]
  },
  {
   "cell_type": "markdown",
   "metadata": {},
   "source": [
    "### 2. Data Balancing"
   ]
  },
  {
   "cell_type": "code",
   "execution_count": 4,
   "metadata": {},
   "outputs": [
    {
     "name": "stdout",
     "output_type": "stream",
     "text": [
      "M    160\n",
      "F    160\n",
      "Q    160\n",
      "N    160\n",
      "V    160\n",
      "S    160\n",
      "Name: Label, dtype: int64\n"
     ]
    }
   ],
   "source": [
    "import pandas as pd\n",
    "\n",
    "# Define the target sample size for each category\n",
    "target_sample_size = 160\n",
    "\n",
    "# Initialize a list to store the sampled data for each category\n",
    "samples = []\n",
    "\n",
    "# List of categories to consider\n",
    "categories = ['N', 'M', 'Q', 'V', 'S', 'F']\n",
    "\n",
    "# Loop through each category\n",
    "for category in categories:\n",
    "    # Filter the dataframe to get data points belonging to the current category\n",
    "    category_data = dataframe_test[dataframe_test['Label'] == category]\n",
    "    \n",
    "    # Check if the category has enough data points to take a sample of size 160\n",
    "    if len(category_data) >= target_sample_size:\n",
    "        # If yes, take a random sample of size 160 from the category\n",
    "        sampled_data = category_data.sample(target_sample_size, random_state=1)\n",
    "    else:\n",
    "        # If not, take a sample of size equal to the number of data points available for that category\n",
    "        sampled_data = category_data.sample(len(category_data), random_state=1)\n",
    "    \n",
    "    # Append the sampled data to the 'samples' list\n",
    "    samples.append(sampled_data)\n",
    "\n",
    "# Concatenate the sampled data for all categories\n",
    "dataframe_test = pd.concat(samples, axis=0).sample(frac=1.0, random_state=1).reset_index(drop=True)\n",
    "\n",
    "# Check the sample size for each category\n",
    "sample_sizes = dataframe_test['Label'].value_counts()\n",
    "print(sample_sizes)"
   ]
  },
  {
   "cell_type": "code",
   "execution_count": 5,
   "metadata": {},
   "outputs": [
    {
     "data": {
      "text/html": [
       "<div>\n",
       "<style scoped>\n",
       "    .dataframe tbody tr th:only-of-type {\n",
       "        vertical-align: middle;\n",
       "    }\n",
       "\n",
       "    .dataframe tbody tr th {\n",
       "        vertical-align: top;\n",
       "    }\n",
       "\n",
       "    .dataframe thead th {\n",
       "        text-align: right;\n",
       "    }\n",
       "</style>\n",
       "<table border=\"1\" class=\"dataframe\">\n",
       "  <thead>\n",
       "    <tr style=\"text-align: right;\">\n",
       "      <th></th>\n",
       "      <th>Filepath</th>\n",
       "      <th>Label</th>\n",
       "    </tr>\n",
       "  </thead>\n",
       "  <tbody>\n",
       "    <tr>\n",
       "      <th>0</th>\n",
       "      <td>archive\\test\\M\\M933.png</td>\n",
       "      <td>M</td>\n",
       "    </tr>\n",
       "    <tr>\n",
       "      <th>1</th>\n",
       "      <td>archive\\test\\F\\F377.png</td>\n",
       "      <td>F</td>\n",
       "    </tr>\n",
       "    <tr>\n",
       "      <th>2</th>\n",
       "      <td>archive\\test\\Q\\Q6746.png</td>\n",
       "      <td>Q</td>\n",
       "    </tr>\n",
       "    <tr>\n",
       "      <th>3</th>\n",
       "      <td>archive\\test\\Q\\Q883.png</td>\n",
       "      <td>Q</td>\n",
       "    </tr>\n",
       "    <tr>\n",
       "      <th>4</th>\n",
       "      <td>archive\\test\\Q\\Q6569.png</td>\n",
       "      <td>Q</td>\n",
       "    </tr>\n",
       "    <tr>\n",
       "      <th>...</th>\n",
       "      <td>...</td>\n",
       "      <td>...</td>\n",
       "    </tr>\n",
       "    <tr>\n",
       "      <th>955</th>\n",
       "      <td>archive\\test\\S\\S1979.png</td>\n",
       "      <td>S</td>\n",
       "    </tr>\n",
       "    <tr>\n",
       "      <th>956</th>\n",
       "      <td>archive\\test\\N\\N26059.png</td>\n",
       "      <td>N</td>\n",
       "    </tr>\n",
       "    <tr>\n",
       "      <th>957</th>\n",
       "      <td>archive\\test\\F\\F418.png</td>\n",
       "      <td>F</td>\n",
       "    </tr>\n",
       "    <tr>\n",
       "      <th>958</th>\n",
       "      <td>archive\\test\\M\\M971.png</td>\n",
       "      <td>M</td>\n",
       "    </tr>\n",
       "    <tr>\n",
       "      <th>959</th>\n",
       "      <td>archive\\test\\N\\N84538.png</td>\n",
       "      <td>N</td>\n",
       "    </tr>\n",
       "  </tbody>\n",
       "</table>\n",
       "<p>960 rows × 2 columns</p>\n",
       "</div>"
      ],
      "text/plain": [
       "                      Filepath Label\n",
       "0      archive\\test\\M\\M933.png     M\n",
       "1      archive\\test\\F\\F377.png     F\n",
       "2     archive\\test\\Q\\Q6746.png     Q\n",
       "3      archive\\test\\Q\\Q883.png     Q\n",
       "4     archive\\test\\Q\\Q6569.png     Q\n",
       "..                         ...   ...\n",
       "955   archive\\test\\S\\S1979.png     S\n",
       "956  archive\\test\\N\\N26059.png     N\n",
       "957    archive\\test\\F\\F418.png     F\n",
       "958    archive\\test\\M\\M971.png     M\n",
       "959  archive\\test\\N\\N84538.png     N\n",
       "\n",
       "[960 rows x 2 columns]"
      ]
     },
     "execution_count": 5,
     "metadata": {},
     "output_type": "execute_result"
    }
   ],
   "source": [
    "dataframe_test"
   ]
  },
  {
   "cell_type": "markdown",
   "metadata": {},
   "source": [
    "### 3. Image Preprocessing and Data Augmentation"
   ]
  },
  {
   "cell_type": "code",
   "execution_count": 6,
   "metadata": {},
   "outputs": [],
   "source": [
    "def gray_torgb(image):\n",
    "    image = cv2.cvtColor(image, cv2.COLOR_BGR2GRAY)  \n",
    "    image = cv2.merge((image, image, image))\n",
    "    image = tf.keras.applications.resnet50.preprocess_input(image)\n",
    "    return image"
   ]
  },
  {
   "cell_type": "code",
   "execution_count": 7,
   "metadata": {},
   "outputs": [],
   "source": [
    "test_generator = tf.keras.preprocessing.image.ImageDataGenerator(\n",
    "    preprocessing_function=gray_torgb,\n",
    "    rescale=1./255\n",
    ")"
   ]
  },
  {
   "cell_type": "code",
   "execution_count": 8,
   "metadata": {},
   "outputs": [
    {
     "name": "stdout",
     "output_type": "stream",
     "text": [
      "Found 960 validated image filenames belonging to 6 classes.\n"
     ]
    }
   ],
   "source": [
    "size = 224\n",
    "color_mode = 'rgb'\n",
    "batch_size = 32\n",
    "\n",
    "test_images = test_generator.flow_from_dataframe(\n",
    "    dataframe=dataframe_test,        # Input dataframe containing file paths and labels\n",
    "    x_col='Filepath',                # Name of the dataframe column containing file paths\n",
    "    y_col='Label',                   # Name of the dataframe column containing labels\n",
    "    target_size=(size, size),        # Target size for resizing the images\n",
    "    color_mode=color_mode,           # Color mode for the images\n",
    "    class_mode='categorical',        # Type of label encoding ('categorical' for one-hot encoded labels)\n",
    "    batch_size=batch_size,           # Number of images in each batch\n",
    "    shuffle=False                    # No shuffle of data during testing\n",
    ")"
   ]
  },
  {
   "cell_type": "code",
   "execution_count": 9,
   "metadata": {},
   "outputs": [
    {
     "data": {
      "text/plain": [
       "{'F': 0, 'M': 1, 'N': 2, 'Q': 3, 'S': 4, 'V': 5}"
      ]
     },
     "execution_count": 9,
     "metadata": {},
     "output_type": "execute_result"
    }
   ],
   "source": [
    "test_images.class_indices"
   ]
  },
  {
   "cell_type": "code",
   "execution_count": 10,
   "metadata": {},
   "outputs": [
    {
     "data": {
      "text/plain": [
       "<matplotlib.image.AxesImage at 0x2aefb48bbb0>"
      ]
     },
     "execution_count": 10,
     "metadata": {},
     "output_type": "execute_result"
    },
    {
     "data": {
      "image/png": "[encoded data removed]",
      "text/plain": [
       "<Figure size 640x480 with 1 Axes>"
      ]
     },
     "metadata": {},
     "output_type": "display_data"
    }
   ],
   "source": [
    "plt.imshow(test_images[0][0][3])"
   ]
  },
  {
   "cell_type": "markdown",
   "metadata": {},
   "source": [
    "### 4. Model Evaluation"
   ]
  },
  {
   "cell_type": "code",
   "execution_count": 11,
   "metadata": {},
   "outputs": [],
   "source": [
    "from keras.models import load_model\n",
    "\n",
    "def load_model(model_path):\n",
    "    best_model = load_model(model_path)\n",
    "    return best_model"
   ]
  },
  {
   "cell_type": "code",
   "execution_count": 12,
   "metadata": {},
   "outputs": [
    {
     "name": "stdout",
     "output_type": "stream",
     "text": [
      "Test Loss     : 0.1783\n",
      "Test Accuracy : 94.3750%\n",
      "Test Precision: 94.3633%\n",
      "Test Recall   : 94.1667%\n",
      "Test AUC      : 0.9963\n"
     ]
    }
   ],
   "source": [
    "from keras.models import load_model\n",
    "\n",
    "def evaluate_model(model_path, test_images):\n",
    "    # Load the pre-trained model\n",
    "    best_model = load_model(model_path)\n",
    "    \n",
    "    # Evaluate the model on the test images\n",
    "    results = best_model.evaluate(test_images, verbose=0)\n",
    "    \n",
    "    # Print the evaluation results\n",
    "    print('Test Loss     : {:.4f}'.format(results[0]))\n",
    "    print('Test Accuracy : {:.4f}%'.format(results[1] * 100))\n",
    "    print('Test Precision: {:.4f}%'.format(results[2] * 100))\n",
    "    print('Test Recall   : {:.4f}%'.format(results[3] * 100))\n",
    "    print('Test AUC      : {:.4f}'.format(results[4]))\n",
    "\n",
    "evaluate_model('ECG_Model.h5', test_images)"
   ]
  },
  {
   "cell_type": "markdown",
   "metadata": {},
   "source": [
    "### 5. Predictions"
   ]
  },
  {
   "cell_type": "code",
   "execution_count": 13,
   "metadata": {},
   "outputs": [
    {
     "name": "stdout",
     "output_type": "stream",
     "text": [
      "30/30 [==============================] - 38s 1s/step\n"
     ]
    },
    {
     "data": {
      "text/plain": [
       "array([[6.1773893e-09, 9.9703503e-01, 3.5667172e-25, 1.5771217e-18,\n",
       "        2.9649311e-03, 5.0325596e-08],\n",
       "       [9.1034162e-01, 6.4489345e-06, 1.9912672e-09, 8.2269806e-05,\n",
       "        1.0594049e-03, 8.8510223e-02],\n",
       "       [2.2161191e-03, 6.6794842e-10, 2.4809726e-03, 9.7923386e-01,\n",
       "        3.0703323e-08, 1.6068969e-02],\n",
       "       ...,\n",
       "       [9.0325695e-01, 2.7953147e-06, 1.5775734e-08, 2.6986437e-04,\n",
       "        5.7464076e-04, 9.5895708e-02],\n",
       "       [1.3756889e-09, 9.9778700e-01, 3.2295378e-27, 1.0131074e-19,\n",
       "        2.2129999e-03, 2.9697132e-08],\n",
       "       [1.4155057e-05, 1.1781427e-12, 9.0245605e-01, 9.7504579e-02,\n",
       "        3.4286840e-12, 2.5159747e-05]], dtype=float32)"
      ]
     },
     "execution_count": 13,
     "metadata": {},
     "output_type": "execute_result"
    }
   ],
   "source": [
    "best_model = load_model('ECG_Model.h5')\n",
    "y_pred = best_model.predict(test_images)\n",
    "y_pred"
   ]
  },
  {
   "cell_type": "code",
   "execution_count": 14,
   "metadata": {},
   "outputs": [
    {
     "data": {
      "text/plain": [
       "array([1, 0, 3, 3, 3, 1, 5, 1, 2, 2, 5, 3, 1, 2, 4, 4, 2, 4, 5, 2, 1, 3,\n",
       "       4, 2, 4, 4, 4, 3, 2, 5, 3, 1, 2, 3, 2, 3, 4, 5, 4, 5, 0, 5, 1, 3,\n",
       "       1, 4, 1, 4, 1, 0, 2, 2, 0, 3, 3, 0, 5, 0, 4, 0, 3, 5, 2, 5, 3, 0,\n",
       "       5, 3, 1, 5, 1, 5, 5, 0, 5, 3, 0, 2, 0, 2, 0, 0, 4, 3, 2, 5, 2, 4,\n",
       "       5, 5, 4, 5, 0, 1, 4, 2, 4, 1, 4, 2, 5, 2, 4, 5, 4, 4, 1, 0, 1, 4,\n",
       "       3, 4, 4, 5, 2, 2, 2, 3, 3, 3, 0, 2, 4, 0, 1, 3, 4, 1, 1, 5, 4, 5,\n",
       "       2, 4, 2, 0, 3, 3, 2, 0, 1, 2, 1, 3, 0, 0, 4, 3, 2, 1, 5, 3, 0, 4,\n",
       "       1, 2, 1, 3, 0, 3, 3, 5, 5, 3, 1, 1, 4, 0, 3, 0, 5, 4, 1, 1, 0, 5,\n",
       "       2, 5, 0, 2, 5, 0, 1, 3, 4, 4, 4, 1, 4, 2, 1, 4, 3, 4, 4, 4, 0, 0,\n",
       "       5, 1, 5, 0, 5, 0, 1, 2, 0, 2, 4, 0, 0, 3, 0, 4, 2, 4, 1, 0, 5, 0,\n",
       "       0, 0, 3, 2, 1, 2, 0, 5, 2, 4, 1, 2, 4, 0, 5, 2, 5, 0, 4, 1, 3, 2,\n",
       "       4, 4, 0, 5, 0, 3, 2, 3, 2, 4, 2, 3, 4, 4, 3, 3, 0, 5, 4, 0, 2, 1,\n",
       "       5, 1, 3, 2, 5, 5, 1, 0, 3, 5, 0, 2, 0, 1, 4, 5, 1, 4, 0, 0, 2, 3,\n",
       "       3, 2, 0, 5, 4, 3, 1, 2, 1, 0, 1, 0, 5, 2, 3, 2, 0, 4, 5, 4, 5, 1,\n",
       "       4, 4, 1, 1, 1, 1, 5, 0, 5, 0, 5, 1, 5, 1, 1, 2, 2, 0, 2, 0, 3, 2,\n",
       "       5, 5, 2, 1, 1, 0, 0, 2, 2, 4, 0, 2, 5, 0, 2, 4, 2, 3, 0, 5, 5, 0,\n",
       "       3, 0, 5, 2, 2, 3, 4, 4, 2, 1, 4, 5, 2, 4, 0, 2, 3, 3, 4, 5, 4, 2,\n",
       "       4, 3, 4, 0, 2, 4, 1, 4, 3, 4, 0, 4, 5, 1, 0, 5, 1, 1, 2, 3, 0, 0,\n",
       "       1, 3, 0, 5, 2, 5, 4, 2, 0, 5, 3, 4, 3, 2, 2, 1, 4, 1, 4, 4, 2, 0,\n",
       "       4, 4, 0, 3, 2, 3, 4, 2, 2, 4, 5, 2, 4, 2, 1, 0, 0, 4, 4, 3, 2, 3,\n",
       "       5, 5, 3, 1, 1, 2, 1, 3, 3, 1, 1, 3, 2, 4, 0, 2, 1, 1, 2, 5, 3, 3,\n",
       "       1, 4, 0, 2, 1, 4, 3, 4, 5, 4, 5, 2, 5, 3, 2, 3, 0, 3, 5, 5, 1, 2,\n",
       "       2, 2, 2, 2, 5, 3, 4, 3, 3, 1, 4, 2, 4, 4, 1, 3, 4, 0, 5, 5, 2, 3,\n",
       "       5, 3, 5, 4, 5, 0, 3, 4, 3, 0, 1, 3, 2, 3, 5, 3, 1, 2, 4, 5, 5, 0,\n",
       "       4, 0, 4, 0, 4, 0, 3, 1, 0, 5, 3, 5, 4, 0, 2, 2, 3, 1, 3, 0, 4, 5,\n",
       "       4, 5, 1, 5, 3, 1, 3, 2, 0, 0, 5, 5, 1, 3, 5, 4, 0, 1, 2, 1, 1, 0,\n",
       "       3, 5, 3, 4, 0, 2, 1, 3, 3, 4, 2, 2, 0, 2, 2, 2, 3, 3, 3, 5, 3, 0,\n",
       "       1, 5, 4, 3, 0, 1, 0, 0, 0, 2, 4, 1, 2, 5, 0, 0, 0, 4, 2, 0, 2, 5,\n",
       "       5, 5, 1, 0, 3, 1, 3, 4, 4, 0, 3, 0, 3, 1, 3, 5, 0, 3, 4, 2, 0, 5,\n",
       "       4, 4, 3, 2, 5, 0, 0, 0, 1, 3, 2, 3, 1, 5, 1, 3, 4, 2, 2, 2, 0, 1,\n",
       "       0, 3, 1, 1, 5, 1, 4, 1, 1, 0, 3, 3, 4, 0, 3, 1, 1, 3, 1, 5, 1, 3,\n",
       "       4, 4, 0, 0, 5, 2, 0, 4, 0, 0, 1, 4, 2, 1, 3, 0, 2, 3, 0, 0, 4, 1,\n",
       "       5, 3, 4, 1, 2, 2, 2, 1, 0, 1, 5, 0, 5, 5, 2, 5, 2, 2, 3, 1, 2, 1,\n",
       "       4, 2, 5, 0, 0, 2, 0, 0, 4, 5, 3, 5, 2, 3, 3, 5, 3, 3, 4, 1, 5, 5,\n",
       "       3, 3, 0, 1, 0, 4, 1, 0, 1, 2, 3, 3, 1, 3, 2, 5, 4, 4, 4, 5, 1, 5,\n",
       "       0, 0, 0, 4, 1, 3, 4, 5, 1, 1, 0, 0, 4, 5, 5, 5, 1, 5, 2, 1, 3, 0,\n",
       "       5, 1, 3, 4, 1, 3, 0, 4, 1, 5, 4, 5, 2, 3, 5, 5, 5, 5, 1, 2, 3, 4,\n",
       "       3, 4, 2, 0, 2, 1, 2, 1, 0, 4, 5, 0, 4, 5, 0, 5, 0, 3, 2, 4, 2, 1,\n",
       "       0, 2, 0, 5, 0, 3, 5, 4, 3, 1, 4, 0, 3, 3, 4, 2, 0, 1, 1, 5, 3, 1,\n",
       "       1, 2, 4, 4, 0, 4, 3, 1, 4, 1, 5, 0, 2, 3, 3, 1, 2, 4, 4, 2, 5, 4,\n",
       "       1, 3, 4, 3, 2, 1, 2, 2, 3, 1, 0, 5, 3, 0, 2, 5, 2, 5, 4, 5, 0, 5,\n",
       "       3, 3, 2, 5, 3, 5, 3, 0, 4, 4, 1, 1, 1, 0, 5, 4, 5, 0, 1, 2, 3, 2,\n",
       "       2, 0, 3, 5, 4, 1, 0, 5, 3, 0, 4, 5, 1, 0, 3, 0, 3, 4, 1, 1, 4, 3,\n",
       "       0, 4, 5, 2, 2, 0, 4, 4, 0, 4, 2, 0, 1, 2], dtype=int64)"
      ]
     },
     "execution_count": 14,
     "metadata": {},
     "output_type": "execute_result"
    }
   ],
   "source": [
    "# Convert the predicted probabilities to class labels\n",
    "# np.argmax() is used to find the index of the maximum probability along the specified axis (axis=1 in this case).\n",
    "y_pred = np.argmax(y_pred, axis=1)\n",
    "y_pred"
   ]
  },
  {
   "cell_type": "markdown",
   "metadata": {},
   "source": [
    "### 6. Confusion Matrix and Classification Report"
   ]
  },
  {
   "cell_type": "code",
   "execution_count": 15,
   "metadata": {},
   "outputs": [
    {
     "name": "stdout",
     "output_type": "stream",
     "text": [
      "Confusion Matrix:\n",
      "[[149   0   0   0   0  11]\n",
      " [  0 147   0   0  13   0]\n",
      " [  0   0 158   2   0   0]\n",
      " [  0   0   1 159   0   0]\n",
      " [  2   5   0   0 152   1]\n",
      " [ 19   0   0   0   0 141]]\n",
      "\n",
      "Classification Report:\n",
      "              precision    recall  f1-score   support\n",
      "\n",
      "           F     0.8765    0.9313    0.9030       160\n",
      "           M     0.9671    0.9187    0.9423       160\n",
      "           N     0.9937    0.9875    0.9906       160\n",
      "           Q     0.9876    0.9938    0.9907       160\n",
      "           S     0.9212    0.9500    0.9354       160\n",
      "           V     0.9216    0.8812    0.9010       160\n",
      "\n",
      "    accuracy                         0.9437       960\n",
      "   macro avg     0.9446    0.9437    0.9438       960\n",
      "weighted avg     0.9446    0.9437    0.9438       960\n",
      "\n",
      "Report saved as classification_report.csv\n"
     ]
    }
   ],
   "source": [
    "import pandas as pd\n",
    "from sklearn.metrics import confusion_matrix, classification_report\n",
    "\n",
    "def generate_report_and_save_csv(test_labels, predictions, target_names, report_path, digits=4):\n",
    "    cm = confusion_matrix(test_labels, predictions)\n",
    "    print('Confusion Matrix:')\n",
    "    print(cm)\n",
    "\n",
    "    report = classification_report(test_labels, predictions, target_names=target_names, digits=digits)\n",
    "    print('\\nClassification Report:')\n",
    "    print(report)\n",
    "\n",
    "    report_df = report_to_df(report)\n",
    "\n",
    "    report_df.to_csv(report_path, index=True)\n",
    "    print(f'Report saved as {report_path}')\n",
    "\n",
    "\n",
    "def report_to_df(report):\n",
    "    report = [x.split(' ') for x in report.split('\\n')]\n",
    "    header = ['Class Name'] + [x for x in report[0] if x != '']\n",
    "    values = []\n",
    "    for row in report[1:-5]:\n",
    "        row = [value for value in row if value != '']\n",
    "        if row:\n",
    "            values.append(row)\n",
    "    df = pd.DataFrame(data=values, columns=header)\n",
    "    return df\n",
    "\n",
    "\n",
    "generate_report_and_save_csv(\n",
    "    test_images.labels, y_pred, target_names=['F', 'M', 'N', 'Q', 'S', 'V'], report_path='classification_report.csv', digits=4\n",
    ")"
   ]
  },
  {
   "cell_type": "markdown",
   "metadata": {},
   "source": [
    "### 7. Confusion Matrix Plotting"
   ]
  },
  {
   "cell_type": "code",
   "execution_count": 16,
   "metadata": {},
   "outputs": [
    {
     "name": "stdout",
     "output_type": "stream",
     "text": [
      "Confusion Matrix, without normalization\n"
     ]
    },
    {
     "data": {
      "image/png": "[encoded data removed]",
      "text/plain": [
       "<Figure size 800x600 with 2 Axes>"
      ]
     },
     "metadata": {},
     "output_type": "display_data"
    }
   ],
   "source": [
    "import itertools\n",
    "import matplotlib.pyplot as plt\n",
    "\n",
    "def plot_confusion_matrix(cm, classes, normalize=False, title='Confusion Matrix', cmap=plt.cm.Oranges):\n",
    "    \"\"\"\n",
    "    This function prints and plots the confusion matrix.\n",
    "    Normalization can be applied by setting `normalize=True`.\n",
    "    \"\"\"\n",
    "    if normalize:\n",
    "        cm = cm.astype('float') / cm.sum(axis=1)[:, np.newaxis]\n",
    "        print('Normalized Confusion Matrix')\n",
    "    else:\n",
    "        print('Confusion Matrix, without normalization')\n",
    "        \n",
    "    plt.figure(figsize=(8, 6))\n",
    "    plt.imshow(cm, interpolation='nearest', cmap=cmap)\n",
    "    plt.title(title)\n",
    "    tick_marks = np.arange(len(classes))\n",
    "    plt.xticks(tick_marks, classes, rotation=45)\n",
    "    plt.yticks(tick_marks, classes)\n",
    "    plt.colorbar()\n",
    "\n",
    "    fmt = '.4f' if normalize else 'd'\n",
    "    thresh = cm.max() / 2.\n",
    "    for i, j in itertools.product(range(cm.shape[0]), range(cm.shape[1])):\n",
    "        plt.text(j, i, format(cm[i, j], fmt),\n",
    "                 horizontalalignment='center',\n",
    "                 color='white' if cm[i, j] > thresh else 'black')\n",
    "\n",
    "    plt.tight_layout()\n",
    "    plt.rcParams['font.size'] = '20'\n",
    "\n",
    "    plt.ylabel('True label')\n",
    "    plt.xlabel('Predicted label')\n",
    "    plt.savefig('confusion_matrix' + '.jpg', dpi=500, bbox_inches='tight')\n",
    "    \n",
    "cm = confusion_matrix(test_images.labels, y_pred)\n",
    "plot_confusion_matrix(cm, classes=['F', 'M', 'N', 'Q', 'S', 'V'], normalize=False, title='Confusion Matrix')"
   ]
  },
  {
   "cell_type": "code",
   "execution_count": 18,
   "metadata": {},
   "outputs": [
    {
     "name": "stdout",
     "output_type": "stream",
     "text": [
      "Normalized Confusion Matrix\n"
     ]
    },
    {
     "data": {
      "image/png": "[encoded data removed]",
      "text/plain": [
       "<Figure size 800x600 with 2 Axes>"
      ]
     },
     "metadata": {},
     "output_type": "display_data"
    }
   ],
   "source": [
    "import itertools\n",
    "\n",
    "def plot_confusion_matrix(cm, classes, normalize=False, title='Confusion Matrix', cmap=plt.cm.Oranges):\n",
    "    \"\"\"\n",
    "    This function prints and plots the confusion matrix.\n",
    "    Normalization can be applied by setting `normalize=True`.\n",
    "    \"\"\"\n",
    "    if normalize:\n",
    "        cm = cm.astype('float') / cm.sum(axis=1)[:, np.newaxis]\n",
    "        print('Normalized Confusion Matrix')\n",
    "    else:\n",
    "        print('Confusion Matrix, without normalization')\n",
    "    plt.figure(figsize=(8, 6))\n",
    "    plt.imshow(cm, interpolation='nearest', cmap=cmap)\n",
    "    plt.title(title)\n",
    "    tick_marks = np.arange(len(classes))\n",
    "    plt.xticks(tick_marks, classes, rotation=45)\n",
    "    plt.yticks(tick_marks, classes)\n",
    "    plt.colorbar()\n",
    "\n",
    "    fmt = '.4f' if normalize else 'd'\n",
    "    thresh = cm.max() / 2.\n",
    "    for i, j in itertools.product(range(cm.shape[0]), range(cm.shape[1])):\n",
    "        plt.text(j, i, format(cm[i, j], fmt),\n",
    "                 horizontalalignment='center',\n",
    "                 color='white' if cm[i, j] > thresh else 'black')\n",
    "\n",
    "    plt.tight_layout()\n",
    "    plt.rcParams['font.size'] = '7'\n",
    "\n",
    "    plt.ylabel('True label')\n",
    "    plt.xlabel('Predicted label')\n",
    "    plt.savefig('normalized_confusion_matrix' + '.jpg', dpi=500, bbox_inches = 'tight')\n",
    "    \n",
    "cm = confusion_matrix(test_images.labels, y_pred)\n",
    "plot_confusion_matrix(cm, classes=['F', 'M', 'N', 'Q', 'S', 'V'],normalize=True,title='Normalized Confusion Matrix')"
   ]
  }
 ],
 "metadata": {
  "kernelspec": {
   "display_name": "pyspark",
   "language": "python",
   "name": "python3"
  },
  "language_info": {
   "codemirror_mode": {
    "name": "ipython",
    "version": 3
   },
   "file_extension": ".py",
   "mimetype": "text/x-python",
   "name": "python",
   "nbconvert_exporter": "python",
   "pygments_lexer": "ipython3",
   "version": "3.10.12"
  },
  "orig_nbformat": 4
 },
 "nbformat": 4,
 "nbformat_minor": 2
}
